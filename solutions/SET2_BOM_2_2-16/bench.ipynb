{
 "cells": [
  {
   "cell_type": "code",
   "execution_count": 1,
   "metadata": {},
   "outputs": [],
   "source": [
    "import os \n",
    "import numpy as np\n",
    "from pathlib import Path\n",
    "import plotly.express as px\n",
    "import pandas as pd"
   ]
  },
  {
   "cell_type": "code",
   "execution_count": 2,
   "metadata": {},
   "outputs": [
    {
     "data": {
      "text/plain": [
       "{'bom_2_2_10_5': 7,\n",
       " 'bom_2_3_10_5': 13,\n",
       " 'bom_2_4_10_5': 21,\n",
       " 'bom_2_5_10_5': 31,\n",
       " 'bom_2_6_10_5': 43,\n",
       " 'bom_2_7_10_5': 57,\n",
       " 'bom_2_8_10_5': 73,\n",
       " 'bom_2_9_10_5': 91,\n",
       " 'bom_2_10_10_5': 111,\n",
       " 'bom_2_11_10_5': 133,\n",
       " 'bom_2_12_10_5': 157,\n",
       " 'bom_2_13_10_5': 183,\n",
       " 'bom_2_14_10_5': 211,\n",
       " 'bom_2_15_10_5': 241,\n",
       " 'bom_2_16_10_5': 273}"
      ]
     },
     "execution_count": 2,
     "metadata": {},
     "output_type": "execute_result"
    }
   ],
   "source": [
    "meticDF = pd.read_csv(\"results_2_2-16.csv\")\n",
    "boms = meticDF[\"BOM\"].unique()\n",
    "bom_nodes={}\n",
    "for bom,node in meticDF[[\"BOM\",\"Nodes\"]].drop_duplicates().values.tolist():\n",
    "    bom_nodes[bom]=node\n",
    "bom_nodes"
   ]
  },
  {
   "cell_type": "code",
   "execution_count": 3,
   "metadata": {},
   "outputs": [],
   "source": [
    "for file in [\"results_2_2-16_LS_3min.csv\",\"results_2_2-16_BS_3min.csv\",\"results_2_2-16_BS_6min.csv\",\"results_2_2-16_BS_60min.csv\"]:\n",
    "    df=pd.read_csv(file)\n",
    "    for bom in boms:\n",
    "        for alg in list(df['Algorithm'].unique()):\n",
    "            for op in [\"OFF\", \"ON\"]:\n",
    "                row=[bom, bom_nodes[bom], f\"{alg}{'_opt' if op=='ON' else ''}\"]\n",
    "                sub_df = df[(df['Bom']==bom) & (df['Algorithm']==alg) &(df['Optimizations']==op)]['Makespan'].to_list()\n",
    "                if len(sub_df) > 0:\n",
    "                    row.append(np.round(np.mean(sub_df),3))\n",
    "                    row.append(np.round(np.std(sub_df),3))\n",
    "                    row.append(np.min(sub_df))\n",
    "                    row.append(np.max(sub_df))\n",
    "                    #print(row)\n",
    "                    meticDF.loc[len(meticDF)] = row\n",
    "\n",
    "meticDF.to_csv(\"benchmark_results_2_2-16.csv\", index=False)"
   ]
  },
  {
   "cell_type": "code",
   "execution_count": 6,
   "metadata": {},
   "outputs": [
    {
     "data": {
      "application/vnd.plotly.v1+json": {
       "config": {
        "plotlyServerURL": "https://plot.ly"
       },
       "data": [
        {
         "error_y": {
          "array": [
           0,
           0,
           0,
           0,
           0,
           0,
           0,
           0,
           0,
           0,
           0,
           0
          ]
         },
         "hovertemplate": "Algorithm=LS_MZN_CPLEX32_1h<br>Nodes=%{x}<br>Makespan=%{y}<extra></extra>",
         "legendgroup": "LS_MZN_CPLEX32_1h",
         "line": {
          "color": "#FD3216",
          "dash": "solid"
         },
         "marker": {
          "symbol": "circle"
         },
         "mode": "lines",
         "name": "LS_MZN_CPLEX32_1h",
         "orientation": "v",
         "showlegend": true,
         "type": "scatter",
         "x": [
          7,
          13,
          21,
          31,
          43,
          57,
          73,
          91,
          111,
          133,
          157,
          183
         ],
         "xaxis": "x",
         "y": [
          175820,
          301430,
          250320,
          300420,
          405940,
          533090,
          744100,
          883930,
          1103760,
          1422800,
          1644230,
          2225650
         ],
         "yaxis": "y"
        },
        {
         "error_y": {
          "array": [
           0,
           0,
           0,
           0,
           0,
           0,
           0,
           0,
           0,
           0,
           0,
           0,
           0
          ]
         },
         "hovertemplate": "Algorithm=BS_MZN_CPLEX32_1h<br>Nodes=%{x}<br>Makespan=%{y}<extra></extra>",
         "legendgroup": "BS_MZN_CPLEX32_1h",
         "line": {
          "color": "#00FE35",
          "dash": "solid"
         },
         "marker": {
          "symbol": "circle"
         },
         "mode": "lines",
         "name": "BS_MZN_CPLEX32_1h",
         "orientation": "v",
         "showlegend": true,
         "type": "scatter",
         "x": [
          7,
          13,
          21,
          31,
          43,
          57,
          73,
          91,
          111,
          133,
          157,
          183,
          211
         ],
         "xaxis": "x",
         "y": [
          95470,
          293754,
          241549,
          280300,
          393484,
          520072,
          708914,
          869430,
          1079926,
          1400335,
          1571519,
          1843188,
          3196960
         ],
         "yaxis": "y"
        },
        {
         "error_y": {
          "array": [
           0,
           0,
           0,
           0,
           0,
           0,
           0,
           0,
           0,
           0,
           0,
           0,
           0,
           0,
           0
          ]
         },
         "hovertemplate": "Algorithm=LETSA<br>Nodes=%{x}<br>Makespan=%{y}<extra></extra>",
         "legendgroup": "LETSA",
         "line": {
          "color": "#6A76FC",
          "dash": "solid"
         },
         "marker": {
          "symbol": "circle"
         },
         "mode": "lines",
         "name": "LETSA",
         "orientation": "v",
         "showlegend": true,
         "type": "scatter",
         "x": [
          7,
          13,
          21,
          31,
          43,
          57,
          73,
          91,
          111,
          133,
          157,
          183,
          211,
          241,
          273
         ],
         "xaxis": "x",
         "y": [
          175820,
          190330,
          362720,
          372620,
          517640,
          643890,
          804600,
          1233200,
          1271860,
          1698800,
          1731430,
          1994300,
          2273000,
          2827400,
          3206600
         ],
         "yaxis": "y"
        },
        {
         "error_y": {
          "array": [
           0,
           0,
           0,
           2721.964,
           2275.256,
           7810.151,
           3022.436,
           2778.369,
           3439.331,
           2861.025,
           1450.523,
           3960.162,
           2068.494,
           2764.65,
           2827.531
          ]
         },
         "hovertemplate": "Algorithm=LS_TS_3min<br>Nodes=%{x}<br>Makespan=%{y}<extra></extra>",
         "legendgroup": "LS_TS_3min",
         "line": {
          "color": "#FED4C4",
          "dash": "solid"
         },
         "marker": {
          "symbol": "circle"
         },
         "mode": "lines",
         "name": "LS_TS_3min",
         "orientation": "v",
         "showlegend": true,
         "type": "scatter",
         "x": [
          7,
          13,
          21,
          31,
          43,
          57,
          73,
          91,
          111,
          133,
          157,
          183,
          211,
          241,
          273
         ],
         "xaxis": "x",
         "y": [
          175820,
          301430,
          250320,
          305171,
          409429,
          547633.333,
          719056.667,
          882730,
          1087707,
          1359958,
          1554844,
          1776754.667,
          2101160,
          2388943.333,
          2827880
         ],
         "yaxis": "y"
        },
        {
         "error_y": {
          "array": [
           0,
           0,
           0,
           2649.276,
           3161.134,
           1609.185,
           2446.996,
           2945.413,
           3365.694,
           2140.327,
           2172.857,
           2280.253,
           2758.581,
           3155.251,
           3384.816
          ]
         },
         "hovertemplate": "Algorithm=LS_TS_3min_opt<br>Nodes=%{x}<br>Makespan=%{y}<extra></extra>",
         "legendgroup": "LS_TS_3min_opt",
         "line": {
          "color": "#FE00CE",
          "dash": "solid"
         },
         "marker": {
          "symbol": "circle"
         },
         "mode": "lines",
         "name": "LS_TS_3min_opt",
         "orientation": "v",
         "showlegend": true,
         "type": "scatter",
         "x": [
          7,
          13,
          21,
          31,
          43,
          57,
          73,
          91,
          111,
          133,
          157,
          183,
          211,
          241,
          273
         ],
         "xaxis": "x",
         "y": [
          175820,
          190330,
          250320,
          305305.333,
          410169.667,
          536788.267,
          717656.667,
          874343.767,
          1081430.767,
          1337607.667,
          1537450.033,
          1751546.6,
          2073043.6,
          2350304.267,
          2774816.5
         ],
         "yaxis": "y"
        },
        {
         "error_y": {
          "array": [
           0,
           0,
           0,
           10775.631,
           8690.375,
           16606.587,
           4555.486,
           7394.349,
           8292.229,
           11616.839,
           8165.665,
           10745.559,
           13392.877,
           12776.383,
           20146.211
          ]
         },
         "hovertemplate": "Algorithm=LS_GA_3min<br>Nodes=%{x}<br>Makespan=%{y}<extra></extra>",
         "legendgroup": "LS_GA_3min",
         "line": {
          "color": "#0DF9FF",
          "dash": "solid"
         },
         "marker": {
          "symbol": "circle"
         },
         "mode": "lines",
         "name": "LS_GA_3min",
         "orientation": "v",
         "showlegend": true,
         "type": "scatter",
         "x": [
          7,
          13,
          21,
          31,
          43,
          57,
          73,
          91,
          111,
          133,
          157,
          183,
          211,
          241,
          273
         ],
         "xaxis": "x",
         "y": [
          175820,
          301430,
          250320,
          317853.333,
          426646.667,
          575406.667,
          745356.667,
          903190,
          1110900,
          1402252.333,
          1580927.667,
          1812733.333,
          2150913.333,
          2440343.333,
          2926810
         ],
         "yaxis": "y"
        },
        {
         "error_y": {
          "array": [
           0,
           0,
           0,
           9421.965,
           9930.604,
           10609.428,
           4936.503,
           6126.182,
           10036.998,
           10344.372,
           10652.623,
           7085.889,
           10966.885,
           13358.133,
           18327.899
          ]
         },
         "hovertemplate": "Algorithm=LS_GA_3min_opt<br>Nodes=%{x}<br>Makespan=%{y}<extra></extra>",
         "legendgroup": "LS_GA_3min_opt",
         "line": {
          "color": "#F6F926",
          "dash": "solid"
         },
         "marker": {
          "symbol": "circle"
         },
         "mode": "lines",
         "name": "LS_GA_3min_opt",
         "orientation": "v",
         "showlegend": true,
         "type": "scatter",
         "x": [
          7,
          13,
          21,
          31,
          43,
          57,
          73,
          91,
          111,
          133,
          157,
          183,
          211,
          241,
          273
         ],
         "xaxis": "x",
         "y": [
          175820,
          190330,
          250320,
          319690,
          426773.333,
          559998.133,
          743460,
          893288.933,
          1104097.933,
          1359159.3,
          1562695.6,
          1783417.667,
          2115446.033,
          2403956.933,
          2851032.2
         ],
         "yaxis": "y"
        },
        {
         "error_y": {
          "array": [
           0,
           0,
           0,
           2787.011,
           2668.031,
           3572.761,
           9683.477,
           2233.992,
           3297.411,
           4918.44,
           4483.354,
           4699.662,
           3755.093,
           4079.591,
           7895.248
          ]
         },
         "hovertemplate": "Algorithm=LS_ABC_3min<br>Nodes=%{x}<br>Makespan=%{y}<extra></extra>",
         "legendgroup": "LS_ABC_3min",
         "line": {
          "color": "#FF9616",
          "dash": "solid"
         },
         "marker": {
          "symbol": "circle"
         },
         "mode": "lines",
         "name": "LS_ABC_3min",
         "orientation": "v",
         "showlegend": true,
         "type": "scatter",
         "x": [
          7,
          13,
          21,
          31,
          43,
          57,
          73,
          91,
          111,
          133,
          157,
          183,
          211,
          241,
          273
         ],
         "xaxis": "x",
         "y": [
          175820,
          301430,
          250320,
          305239.333,
          414691.667,
          558383.333,
          730660,
          889646.667,
          1097149.667,
          1385513.667,
          1567410.667,
          1795309.333,
          2120043.333,
          2405910,
          2856680
         ],
         "yaxis": "y"
        },
        {
         "error_y": {
          "array": [
           0,
           0,
           0,
           2836.925,
           2754.912,
           4348.115,
           5836.424,
           3913.32,
           3160.746,
           1830.655,
           2227.376,
           2941.211,
           3382.55,
           2265.29,
           3409.821
          ]
         },
         "hovertemplate": "Algorithm=LS_ABC_3min_opt<br>Nodes=%{x}<br>Makespan=%{y}<extra></extra>",
         "legendgroup": "LS_ABC_3min_opt",
         "line": {
          "color": "#479B55",
          "dash": "solid"
         },
         "marker": {
          "symbol": "circle"
         },
         "mode": "lines",
         "name": "LS_ABC_3min_opt",
         "orientation": "v",
         "showlegend": true,
         "type": "scatter",
         "x": [
          7,
          13,
          21,
          31,
          43,
          57,
          73,
          91,
          111,
          133,
          157,
          183,
          211,
          241,
          273
         ],
         "xaxis": "x",
         "y": [
          175820,
          190330,
          250320,
          304650.333,
          413733,
          541204.867,
          724022.167,
          880910.333,
          1088577.5,
          1345670.333,
          1547871.233,
          1763680.433,
          2086450.467,
          2364707.467,
          2793018
         ],
         "yaxis": "y"
        },
        {
         "error_y": {
          "array": [
           0,
           0,
           0,
           706.561,
           1063.311,
           1339.465,
           1317.012,
           1352.289,
           1451.114,
           3004.439,
           1943.53,
           2911.502,
           3393.268,
           2517.059,
           2876.53
          ]
         },
         "hovertemplate": "Algorithm=BS_TS_3min<br>Nodes=%{x}<br>Makespan=%{y}<extra></extra>",
         "legendgroup": "BS_TS_3min",
         "line": {
          "color": "#EEA6FB",
          "dash": "solid"
         },
         "marker": {
          "symbol": "circle"
         },
         "mode": "lines",
         "name": "BS_TS_3min",
         "orientation": "v",
         "showlegend": true,
         "type": "scatter",
         "x": [
          7,
          13,
          21,
          31,
          43,
          57,
          73,
          91,
          111,
          133,
          157,
          183,
          211,
          241,
          273
         ],
         "xaxis": "x",
         "y": [
          95470,
          293754,
          241549,
          284381.6,
          399504.7,
          534568.2,
          715276.8,
          875777.3,
          1088901.533,
          1357938.3,
          1560512.2,
          1789904.367,
          2115182.7,
          2401065.433,
          2839716.433
         ],
         "yaxis": "y"
        },
        {
         "error_y": {
          "array": [
           0,
           0,
           170.71,
           596.241,
           916.924,
           1203.735,
           1027.746,
           1459.938,
           1548.776,
           1318.801,
           1830.706,
           2286.209,
           2194.992,
           2392.797,
           2422.301
          ]
         },
         "hovertemplate": "Algorithm=BS_TS_3min_opt<br>Nodes=%{x}<br>Makespan=%{y}<extra></extra>",
         "legendgroup": "BS_TS_3min_opt",
         "line": {
          "color": "#DC587D",
          "dash": "solid"
         },
         "marker": {
          "symbol": "circle"
         },
         "mode": "lines",
         "name": "BS_TS_3min_opt",
         "orientation": "v",
         "showlegend": true,
         "type": "scatter",
         "x": [
          7,
          13,
          21,
          31,
          43,
          57,
          73,
          91,
          111,
          133,
          157,
          183,
          211,
          241,
          273
         ],
         "xaxis": "x",
         "y": [
          95470,
          186390,
          241580.7,
          284552.6,
          397634.4,
          527952.867,
          713261.5,
          867854.167,
          1080032.933,
          1336455.733,
          1538439.433,
          1759556.833,
          2078424.433,
          2355362.6,
          2782617.2
         ],
         "yaxis": "y"
        },
        {
         "error_y": {
          "array": [
           113.578,
           0,
           389.568,
           2389.038,
           2267.868,
           5627.506,
           5583.42,
           6507.884,
           4395.439,
           14719.042,
           7852.845,
           10913.234,
           18898.045,
           13556.913,
           23329.01
          ]
         },
         "hovertemplate": "Algorithm=BS_GA_3min<br>Nodes=%{x}<br>Makespan=%{y}<extra></extra>",
         "legendgroup": "BS_GA_3min",
         "line": {
          "color": "#D626FF",
          "dash": "solid"
         },
         "marker": {
          "symbol": "circle"
         },
         "mode": "lines",
         "name": "BS_GA_3min",
         "orientation": "v",
         "showlegend": true,
         "type": "scatter",
         "x": [
          7,
          13,
          21,
          31,
          43,
          57,
          73,
          91,
          111,
          133,
          157,
          183,
          211,
          241,
          273
         ],
         "xaxis": "x",
         "y": [
          95530,
          293754,
          242285.5,
          288383.8,
          400920.833,
          541585.033,
          718501.4,
          879985.1,
          1088722,
          1400443.367,
          1570330.4,
          1809024.5,
          2152692.4,
          2443629.9,
          2925691.367
         ],
         "yaxis": "y"
        },
        {
         "error_y": {
          "array": [
           92.331,
           0.718,
           481.001,
           2496.008,
           2055.965,
           6098.212,
           3007.318,
           3445.587,
           3609.385,
           8138.023,
           6917.911,
           11370.05,
           16294.868,
           15835.406,
           17854.497
          ]
         },
         "hovertemplate": "Algorithm=BS_GA_3min_opt<br>Nodes=%{x}<br>Makespan=%{y}<extra></extra>",
         "legendgroup": "BS_GA_3min_opt",
         "line": {
          "color": "#6E899C",
          "dash": "solid"
         },
         "marker": {
          "symbol": "circle"
         },
         "mode": "lines",
         "name": "BS_GA_3min_opt",
         "orientation": "v",
         "showlegend": true,
         "type": "scatter",
         "x": [
          7,
          13,
          21,
          31,
          43,
          57,
          73,
          91,
          111,
          133,
          157,
          183,
          211,
          241,
          273
         ],
         "xaxis": "x",
         "y": [
          95535,
          186390.133,
          242175,
          288500.767,
          399697.6,
          531047.633,
          715815,
          872573.033,
          1081255.067,
          1349396.3,
          1551788.5,
          1781031.633,
          2117002.333,
          2403092.733,
          2850932.867
         ],
         "yaxis": "y"
        },
        {
         "error_y": {
          "array": [
           448.862,
           17.636,
           542.88,
           1588.129,
           1282.815,
           6616.248,
           0,
           2905.137,
           3429.438,
           5941.483,
           4361.359,
           6443.195,
           6921.213,
           6595.968,
           11521.053
          ]
         },
         "hovertemplate": "Algorithm=BS_ABC_3min<br>Nodes=%{x}<br>Makespan=%{y}<extra></extra>",
         "legendgroup": "BS_ABC_3min",
         "line": {
          "color": "#00B5F7",
          "dash": "solid"
         },
         "marker": {
          "symbol": "circle"
         },
         "mode": "lines",
         "name": "BS_ABC_3min",
         "orientation": "v",
         "showlegend": true,
         "type": "scatter",
         "x": [
          7,
          13,
          21,
          31,
          43,
          57,
          73,
          91,
          111,
          133,
          157,
          183,
          211,
          241,
          273
         ],
         "xaxis": "x",
         "y": [
          96357.333,
          293768.4,
          242968.8,
          297170.867,
          413115,
          574776.533,
          744100,
          900317.167,
          1113439.467,
          1404495.167,
          1595467.8,
          1828485.767,
          2153945.4,
          2435140.133,
          2910476.1
         ],
         "yaxis": "y"
        },
        {
         "error_y": {
          "array": [
           518.606,
           66.774,
           377.168,
           1597.034,
           1852.159,
           2470.69,
           6721.425,
           2985.56,
           2986.709,
           3395.403,
           2906.141,
           3891.769,
           4142.697,
           4726.683,
           6901.158
          ]
         },
         "hovertemplate": "Algorithm=BS_ABC_3min_opt<br>Nodes=%{x}<br>Makespan=%{y}<extra></extra>",
         "legendgroup": "BS_ABC_3min_opt",
         "line": {
          "color": "#B68E00",
          "dash": "solid"
         },
         "marker": {
          "symbol": "circle"
         },
         "mode": "lines",
         "name": "BS_ABC_3min_opt",
         "orientation": "v",
         "showlegend": true,
         "type": "scatter",
         "x": [
          7,
          13,
          21,
          31,
          43,
          57,
          73,
          91,
          111,
          133,
          157,
          183,
          211,
          241,
          273
         ],
         "xaxis": "x",
         "y": [
          96363.133,
          186506.8,
          242876,
          297499.867,
          410746.933,
          555115.8,
          741090.6,
          889247.033,
          1099624.833,
          1362284.833,
          1564624.567,
          1788744.067,
          2110653.3,
          2387177.833,
          2832678.4
         ],
         "yaxis": "y"
        },
        {
         "error_y": {
          "array": [
           0,
           0,
           0,
           366.897,
           833.556,
           1876.513,
           749.766,
           978.127,
           1697.776,
           1378.296,
           1897.489,
           2542.995,
           1822.624,
           4021.415,
           3620.082
          ]
         },
         "hovertemplate": "Algorithm=BS_TS_6min<br>Nodes=%{x}<br>Makespan=%{y}<extra></extra>",
         "legendgroup": "BS_TS_6min",
         "line": {
          "color": "#C9FBE5",
          "dash": "solid"
         },
         "marker": {
          "symbol": "circle"
         },
         "mode": "lines",
         "name": "BS_TS_6min",
         "orientation": "v",
         "showlegend": true,
         "type": "scatter",
         "x": [
          7,
          13,
          21,
          31,
          43,
          57,
          73,
          91,
          111,
          133,
          157,
          183,
          211,
          241,
          273
         ],
         "xaxis": "x",
         "y": [
          95470,
          293754,
          241549,
          283697.5,
          398753.9,
          533025,
          713211.7,
          874214.6,
          1087578,
          1356441.4,
          1558079.6,
          1787018.4,
          2114726.6,
          2400164.3,
          2837956.8
         ],
         "yaxis": "y"
        },
        {
         "error_y": {
          "array": [
           0,
           0,
           0,
           534.666,
           528.082,
           1021.537,
           883.145,
           949.75,
           1263.348,
           1995.293,
           872.097,
           2019.293,
           2304.643,
           2480.752,
           1732.234
          ]
         },
         "hovertemplate": "Algorithm=BS_TS_6min_opt<br>Nodes=%{x}<br>Makespan=%{y}<extra></extra>",
         "legendgroup": "BS_TS_6min_opt",
         "line": {
          "color": "#FF0092",
          "dash": "solid"
         },
         "marker": {
          "symbol": "circle"
         },
         "mode": "lines",
         "name": "BS_TS_6min_opt",
         "orientation": "v",
         "showlegend": true,
         "type": "scatter",
         "x": [
          7,
          13,
          21,
          31,
          43,
          57,
          73,
          91,
          111,
          133,
          157,
          183,
          211,
          241,
          273
         ],
         "xaxis": "x",
         "y": [
          95470,
          186390,
          241549,
          283780,
          396846.5,
          526211.9,
          712372.6,
          867520.2,
          1077777.6,
          1334279.2,
          1537299.4,
          1759277.2,
          2076096.9,
          2353188.8,
          2780802
         ],
         "yaxis": "y"
        },
        {
         "error_y": {
          "array": [
           75,
           0,
           465.46,
           2987.039,
           2975.751,
           7497.714,
           2103.92,
           2778.388,
           2465.002,
           7281.24,
           5659.653,
           6537.084,
           11605.94,
           8390.727,
           17089.642
          ]
         },
         "hovertemplate": "Algorithm=BS_GA_6min<br>Nodes=%{x}<br>Makespan=%{y}<extra></extra>",
         "legendgroup": "BS_GA_6min",
         "line": {
          "color": "#22FFA7",
          "dash": "solid"
         },
         "marker": {
          "symbol": "circle"
         },
         "mode": "lines",
         "name": "BS_GA_6min",
         "orientation": "v",
         "showlegend": true,
         "type": "scatter",
         "x": [
          7,
          13,
          21,
          31,
          43,
          57,
          73,
          91,
          111,
          133,
          157,
          183,
          211,
          241,
          273
         ],
         "xaxis": "x",
         "y": [
          95545,
          293754,
          242035.6,
          288618.4,
          402053.6,
          541039.9,
          716085.8,
          875140.5,
          1087059.1,
          1379012,
          1560415.8,
          1791123,
          2129842.1,
          2412849.9,
          2899615.8
         ],
         "yaxis": "y"
        },
        {
         "error_y": {
          "array": [
           96.047,
           0,
           435.803,
           973.016,
           1415.62,
           2500.148,
           2236.74,
           2139.463,
           2050.472,
           5005.54,
           6727.957,
           3591.602,
           12421.541,
           6944.001,
           8305.953
          ]
         },
         "hovertemplate": "Algorithm=BS_GA_6min_opt<br>Nodes=%{x}<br>Makespan=%{y}<extra></extra>",
         "legendgroup": "BS_GA_6min_opt",
         "line": {
          "color": "#E3EE9E",
          "dash": "solid"
         },
         "marker": {
          "symbol": "circle"
         },
         "mode": "lines",
         "name": "BS_GA_6min_opt",
         "orientation": "v",
         "showlegend": true,
         "type": "scatter",
         "x": [
          7,
          13,
          21,
          31,
          43,
          57,
          73,
          91,
          111,
          133,
          157,
          183,
          211,
          241,
          273
         ],
         "xaxis": "x",
         "y": [
          95515,
          186390,
          242214.7,
          286589.1,
          398751.3,
          527849.5,
          714241.8,
          868966.8,
          1079093.8,
          1339297.9,
          1543624.1,
          1766539.3,
          2099237.9,
          2383220.6,
          2820672.5
         ],
         "yaxis": "y"
        },
        {
         "error_y": {
          "array": [
           341.424,
           0,
           479.312,
           1067.343,
           1594.433,
           4841.708,
           0,
           3132.246,
           2492.082,
           7598.751,
           1908.841,
           4135.125,
           6490.425,
           7371.872,
           12339.485
          ]
         },
         "hovertemplate": "Algorithm=BS_ABC_6min<br>Nodes=%{x}<br>Makespan=%{y}<extra></extra>",
         "legendgroup": "BS_ABC_6min",
         "line": {
          "color": "#86CE00",
          "dash": "solid"
         },
         "marker": {
          "symbol": "circle"
         },
         "mode": "lines",
         "name": "BS_ABC_6min",
         "orientation": "v",
         "showlegend": true,
         "type": "scatter",
         "x": [
          7,
          13,
          21,
          31,
          43,
          57,
          73,
          91,
          111,
          133,
          157,
          183,
          211,
          241,
          273
         ],
         "xaxis": "x",
         "y": [
          96189.2,
          293754,
          242591.5,
          296717.1,
          411456,
          570482.7,
          744100,
          898213.8,
          1110906.9,
          1394743.4,
          1591235.4,
          1826008.6,
          2152089.9,
          2431173.3,
          2892396
         ],
         "yaxis": "y"
        },
        {
         "error_y": {
          "array": [
           195.015,
           48.167,
           360.094,
           1284.098,
           1561.495,
           1869.218,
           8517.688,
           2077.232,
           2269.249,
           3231.323,
           2986.818,
           2838.121,
           2431.811,
           1900.354,
           2944.781
          ]
         },
         "hovertemplate": "Algorithm=BS_ABC_6min_opt<br>Nodes=%{x}<br>Makespan=%{y}<extra></extra>",
         "legendgroup": "BS_ABC_6min_opt",
         "line": {
          "color": "#BC7196",
          "dash": "solid"
         },
         "marker": {
          "symbol": "circle"
         },
         "mode": "lines",
         "name": "BS_ABC_6min_opt",
         "orientation": "v",
         "showlegend": true,
         "type": "scatter",
         "x": [
          7,
          13,
          21,
          31,
          43,
          57,
          73,
          91,
          111,
          133,
          157,
          183,
          211,
          241,
          273
         ],
         "xaxis": "x",
         "y": [
          95926.1,
          186472.6,
          242443.6,
          296711,
          409919.8,
          551762.7,
          738460.2,
          888734.4,
          1099708.9,
          1358345.4,
          1563212.9,
          1786146.3,
          2107050.5,
          2384726.4,
          2820452.1
         ],
         "yaxis": "y"
        },
        {
         "error_y": {
          "array": [
           0,
           0,
           0,
           100.5,
           371.5,
           2007.5,
           191,
           587,
           77.5,
           1231.5,
           94,
           1026.5,
           36,
           1403.5,
           4051.5
          ]
         },
         "hovertemplate": "Algorithm=BS_TS_60min<br>Nodes=%{x}<br>Makespan=%{y}<extra></extra>",
         "legendgroup": "BS_TS_60min",
         "line": {
          "color": "#7E7DCD",
          "dash": "solid"
         },
         "marker": {
          "symbol": "circle"
         },
         "mode": "lines",
         "name": "BS_TS_60min",
         "orientation": "v",
         "showlegend": true,
         "type": "scatter",
         "x": [
          7,
          13,
          21,
          31,
          43,
          57,
          73,
          91,
          111,
          133,
          157,
          183,
          211,
          241,
          273
         ],
         "xaxis": "x",
         "y": [
          95470,
          293754,
          241549,
          281466.5,
          394376.5,
          525830.5,
          708049,
          867536,
          1078500.5,
          1347786.5,
          1547807,
          1779276.5,
          2106339,
          2393354.5,
          2834964.5
         ],
         "yaxis": "y"
        },
        {
         "error_y": {
          "array": [
           0,
           0,
           0,
           356,
           509,
           283.5,
           22,
           777,
           657.5,
           748.5,
           92.5,
           313.5,
           220,
           1254,
           2184
          ]
         },
         "hovertemplate": "Algorithm=BS_TS_60min_opt<br>Nodes=%{x}<br>Makespan=%{y}<extra></extra>",
         "legendgroup": "BS_TS_60min_opt",
         "line": {
          "color": "#FC6955",
          "dash": "solid"
         },
         "marker": {
          "symbol": "circle"
         },
         "mode": "lines",
         "name": "BS_TS_60min_opt",
         "orientation": "v",
         "showlegend": true,
         "type": "scatter",
         "x": [
          7,
          13,
          21,
          31,
          43,
          57,
          73,
          91,
          111,
          133,
          157,
          183,
          211,
          241,
          273
         ],
         "xaxis": "x",
         "y": [
          95470,
          186390,
          241549,
          281272,
          392997,
          521393.5,
          707397,
          859924,
          1070292.5,
          1325681.5,
          1528157.5,
          1748187.5,
          2070814,
          2345130,
          2772898
         ],
         "yaxis": "y"
        },
        {
         "error_y": {
          "array": [
           0,
           0,
           0,
           0,
           0,
           0,
           0,
           0,
           0,
           0,
           0,
           0,
           0,
           0,
           0
          ]
         },
         "hovertemplate": "Algorithm=BS_GA_60min<br>Nodes=%{x}<br>Makespan=%{y}<extra></extra>",
         "legendgroup": "BS_GA_60min",
         "line": {
          "color": "#E48F72",
          "dash": "solid"
         },
         "marker": {
          "symbol": "circle"
         },
         "mode": "lines",
         "name": "BS_GA_60min",
         "orientation": "v",
         "showlegend": true,
         "type": "scatter",
         "x": [
          7,
          13,
          21,
          31,
          43,
          57,
          73,
          91,
          111,
          133,
          157,
          183,
          211,
          241,
          273
         ],
         "xaxis": "x",
         "y": [
          95620,
          293754,
          242500,
          287758,
          397036,
          523336,
          709950,
          875936,
          1083032,
          1380424,
          1550078,
          1772450,
          2102746,
          2389600,
          2837656
         ],
         "yaxis": "y"
        },
        {
         "error_y": {
          "array": [
           0,
           0,
           0,
           0,
           0,
           0,
           0,
           0,
           0,
           0,
           0,
           0,
           0,
           0,
           0
          ]
         },
         "hovertemplate": "Algorithm=BS_GA_60min_opt<br>Nodes=%{x}<br>Makespan=%{y}<extra></extra>",
         "legendgroup": "BS_GA_60min_opt",
         "line": {
          "color": "#FD3216",
          "dash": "solid"
         },
         "marker": {
          "symbol": "circle"
         },
         "mode": "lines",
         "name": "BS_GA_60min_opt",
         "orientation": "v",
         "showlegend": true,
         "type": "scatter",
         "x": [
          7,
          13,
          21,
          31,
          43,
          57,
          73,
          91,
          111,
          133,
          157,
          183,
          211,
          241,
          273
         ],
         "xaxis": "x",
         "y": [
          95470,
          186390,
          241549,
          284606,
          397792,
          524590,
          713030,
          865730,
          1074041,
          1331721,
          1532261,
          1755403,
          2077144,
          2361546,
          2792260
         ],
         "yaxis": "y"
        },
        {
         "error_y": {
          "array": [
           0,
           0,
           0,
           0,
           0,
           0,
           0,
           0,
           0,
           0,
           0,
           0,
           0,
           0,
           0
          ]
         },
         "hovertemplate": "Algorithm=BS_ABC_60min<br>Nodes=%{x}<br>Makespan=%{y}<extra></extra>",
         "legendgroup": "BS_ABC_60min",
         "line": {
          "color": "#00FE35",
          "dash": "solid"
         },
         "marker": {
          "symbol": "circle"
         },
         "mode": "lines",
         "name": "BS_ABC_60min",
         "orientation": "v",
         "showlegend": true,
         "type": "scatter",
         "x": [
          7,
          13,
          21,
          31,
          43,
          57,
          73,
          91,
          111,
          133,
          157,
          183,
          211,
          241,
          273
         ],
         "xaxis": "x",
         "y": [
          95723,
          293754,
          242020,
          295056,
          408406,
          563996,
          723661,
          893732,
          1106778,
          1389220,
          1590069,
          1819742,
          2142824,
          2426042,
          2879131
         ],
         "yaxis": "y"
        },
        {
         "error_y": {
          "array": [
           0,
           0,
           0,
           0,
           0,
           0,
           0,
           0,
           0,
           0,
           0,
           0,
           0,
           0,
           0
          ]
         },
         "hovertemplate": "Algorithm=BS_ABC_60min_opt<br>Nodes=%{x}<br>Makespan=%{y}<extra></extra>",
         "legendgroup": "BS_ABC_60min_opt",
         "line": {
          "color": "#6A76FC",
          "dash": "solid"
         },
         "marker": {
          "symbol": "circle"
         },
         "mode": "lines",
         "name": "BS_ABC_60min_opt",
         "orientation": "v",
         "showlegend": true,
         "type": "scatter",
         "x": [
          7,
          13,
          21,
          31,
          43,
          57,
          73,
          91,
          111,
          133,
          157,
          183,
          211,
          241,
          273
         ],
         "xaxis": "x",
         "y": [
          95620,
          186394,
          242500,
          294545,
          407974,
          545710,
          725570,
          885766,
          1096782,
          1354716,
          1558319,
          1780216,
          2097656,
          2376331,
          2811524
         ],
         "yaxis": "y"
        }
       ],
       "layout": {
        "height": 600,
        "legend": {
         "title": {
          "text": "Algorithm"
         },
         "tracegroupgap": 0
        },
        "margin": {
         "t": 60
        },
        "template": {
         "data": {
          "bar": [
           {
            "error_x": {
             "color": "#2a3f5f"
            },
            "error_y": {
             "color": "#2a3f5f"
            },
            "marker": {
             "line": {
              "color": "#E5ECF6",
              "width": 0.5
             },
             "pattern": {
              "fillmode": "overlay",
              "size": 10,
              "solidity": 0.2
             }
            },
            "type": "bar"
           }
          ],
          "barpolar": [
           {
            "marker": {
             "line": {
              "color": "#E5ECF6",
              "width": 0.5
             },
             "pattern": {
              "fillmode": "overlay",
              "size": 10,
              "solidity": 0.2
             }
            },
            "type": "barpolar"
           }
          ],
          "carpet": [
           {
            "aaxis": {
             "endlinecolor": "#2a3f5f",
             "gridcolor": "white",
             "linecolor": "white",
             "minorgridcolor": "white",
             "startlinecolor": "#2a3f5f"
            },
            "baxis": {
             "endlinecolor": "#2a3f5f",
             "gridcolor": "white",
             "linecolor": "white",
             "minorgridcolor": "white",
             "startlinecolor": "#2a3f5f"
            },
            "type": "carpet"
           }
          ],
          "choropleth": [
           {
            "colorbar": {
             "outlinewidth": 0,
             "ticks": ""
            },
            "type": "choropleth"
           }
          ],
          "contour": [
           {
            "colorbar": {
             "outlinewidth": 0,
             "ticks": ""
            },
            "colorscale": [
             [
              0,
              "#0d0887"
             ],
             [
              0.1111111111111111,
              "#46039f"
             ],
             [
              0.2222222222222222,
              "#7201a8"
             ],
             [
              0.3333333333333333,
              "#9c179e"
             ],
             [
              0.4444444444444444,
              "#bd3786"
             ],
             [
              0.5555555555555556,
              "#d8576b"
             ],
             [
              0.6666666666666666,
              "#ed7953"
             ],
             [
              0.7777777777777778,
              "#fb9f3a"
             ],
             [
              0.8888888888888888,
              "#fdca26"
             ],
             [
              1,
              "#f0f921"
             ]
            ],
            "type": "contour"
           }
          ],
          "contourcarpet": [
           {
            "colorbar": {
             "outlinewidth": 0,
             "ticks": ""
            },
            "type": "contourcarpet"
           }
          ],
          "heatmap": [
           {
            "colorbar": {
             "outlinewidth": 0,
             "ticks": ""
            },
            "colorscale": [
             [
              0,
              "#0d0887"
             ],
             [
              0.1111111111111111,
              "#46039f"
             ],
             [
              0.2222222222222222,
              "#7201a8"
             ],
             [
              0.3333333333333333,
              "#9c179e"
             ],
             [
              0.4444444444444444,
              "#bd3786"
             ],
             [
              0.5555555555555556,
              "#d8576b"
             ],
             [
              0.6666666666666666,
              "#ed7953"
             ],
             [
              0.7777777777777778,
              "#fb9f3a"
             ],
             [
              0.8888888888888888,
              "#fdca26"
             ],
             [
              1,
              "#f0f921"
             ]
            ],
            "type": "heatmap"
           }
          ],
          "heatmapgl": [
           {
            "colorbar": {
             "outlinewidth": 0,
             "ticks": ""
            },
            "colorscale": [
             [
              0,
              "#0d0887"
             ],
             [
              0.1111111111111111,
              "#46039f"
             ],
             [
              0.2222222222222222,
              "#7201a8"
             ],
             [
              0.3333333333333333,
              "#9c179e"
             ],
             [
              0.4444444444444444,
              "#bd3786"
             ],
             [
              0.5555555555555556,
              "#d8576b"
             ],
             [
              0.6666666666666666,
              "#ed7953"
             ],
             [
              0.7777777777777778,
              "#fb9f3a"
             ],
             [
              0.8888888888888888,
              "#fdca26"
             ],
             [
              1,
              "#f0f921"
             ]
            ],
            "type": "heatmapgl"
           }
          ],
          "histogram": [
           {
            "marker": {
             "pattern": {
              "fillmode": "overlay",
              "size": 10,
              "solidity": 0.2
             }
            },
            "type": "histogram"
           }
          ],
          "histogram2d": [
           {
            "colorbar": {
             "outlinewidth": 0,
             "ticks": ""
            },
            "colorscale": [
             [
              0,
              "#0d0887"
             ],
             [
              0.1111111111111111,
              "#46039f"
             ],
             [
              0.2222222222222222,
              "#7201a8"
             ],
             [
              0.3333333333333333,
              "#9c179e"
             ],
             [
              0.4444444444444444,
              "#bd3786"
             ],
             [
              0.5555555555555556,
              "#d8576b"
             ],
             [
              0.6666666666666666,
              "#ed7953"
             ],
             [
              0.7777777777777778,
              "#fb9f3a"
             ],
             [
              0.8888888888888888,
              "#fdca26"
             ],
             [
              1,
              "#f0f921"
             ]
            ],
            "type": "histogram2d"
           }
          ],
          "histogram2dcontour": [
           {
            "colorbar": {
             "outlinewidth": 0,
             "ticks": ""
            },
            "colorscale": [
             [
              0,
              "#0d0887"
             ],
             [
              0.1111111111111111,
              "#46039f"
             ],
             [
              0.2222222222222222,
              "#7201a8"
             ],
             [
              0.3333333333333333,
              "#9c179e"
             ],
             [
              0.4444444444444444,
              "#bd3786"
             ],
             [
              0.5555555555555556,
              "#d8576b"
             ],
             [
              0.6666666666666666,
              "#ed7953"
             ],
             [
              0.7777777777777778,
              "#fb9f3a"
             ],
             [
              0.8888888888888888,
              "#fdca26"
             ],
             [
              1,
              "#f0f921"
             ]
            ],
            "type": "histogram2dcontour"
           }
          ],
          "mesh3d": [
           {
            "colorbar": {
             "outlinewidth": 0,
             "ticks": ""
            },
            "type": "mesh3d"
           }
          ],
          "parcoords": [
           {
            "line": {
             "colorbar": {
              "outlinewidth": 0,
              "ticks": ""
             }
            },
            "type": "parcoords"
           }
          ],
          "pie": [
           {
            "automargin": true,
            "type": "pie"
           }
          ],
          "scatter": [
           {
            "marker": {
             "colorbar": {
              "outlinewidth": 0,
              "ticks": ""
             }
            },
            "type": "scatter"
           }
          ],
          "scatter3d": [
           {
            "line": {
             "colorbar": {
              "outlinewidth": 0,
              "ticks": ""
             }
            },
            "marker": {
             "colorbar": {
              "outlinewidth": 0,
              "ticks": ""
             }
            },
            "type": "scatter3d"
           }
          ],
          "scattercarpet": [
           {
            "marker": {
             "colorbar": {
              "outlinewidth": 0,
              "ticks": ""
             }
            },
            "type": "scattercarpet"
           }
          ],
          "scattergeo": [
           {
            "marker": {
             "colorbar": {
              "outlinewidth": 0,
              "ticks": ""
             }
            },
            "type": "scattergeo"
           }
          ],
          "scattergl": [
           {
            "marker": {
             "colorbar": {
              "outlinewidth": 0,
              "ticks": ""
             }
            },
            "type": "scattergl"
           }
          ],
          "scattermapbox": [
           {
            "marker": {
             "colorbar": {
              "outlinewidth": 0,
              "ticks": ""
             }
            },
            "type": "scattermapbox"
           }
          ],
          "scatterpolar": [
           {
            "marker": {
             "colorbar": {
              "outlinewidth": 0,
              "ticks": ""
             }
            },
            "type": "scatterpolar"
           }
          ],
          "scatterpolargl": [
           {
            "marker": {
             "colorbar": {
              "outlinewidth": 0,
              "ticks": ""
             }
            },
            "type": "scatterpolargl"
           }
          ],
          "scatterternary": [
           {
            "marker": {
             "colorbar": {
              "outlinewidth": 0,
              "ticks": ""
             }
            },
            "type": "scatterternary"
           }
          ],
          "surface": [
           {
            "colorbar": {
             "outlinewidth": 0,
             "ticks": ""
            },
            "colorscale": [
             [
              0,
              "#0d0887"
             ],
             [
              0.1111111111111111,
              "#46039f"
             ],
             [
              0.2222222222222222,
              "#7201a8"
             ],
             [
              0.3333333333333333,
              "#9c179e"
             ],
             [
              0.4444444444444444,
              "#bd3786"
             ],
             [
              0.5555555555555556,
              "#d8576b"
             ],
             [
              0.6666666666666666,
              "#ed7953"
             ],
             [
              0.7777777777777778,
              "#fb9f3a"
             ],
             [
              0.8888888888888888,
              "#fdca26"
             ],
             [
              1,
              "#f0f921"
             ]
            ],
            "type": "surface"
           }
          ],
          "table": [
           {
            "cells": {
             "fill": {
              "color": "#EBF0F8"
             },
             "line": {
              "color": "white"
             }
            },
            "header": {
             "fill": {
              "color": "#C8D4E3"
             },
             "line": {
              "color": "white"
             }
            },
            "type": "table"
           }
          ]
         },
         "layout": {
          "annotationdefaults": {
           "arrowcolor": "#2a3f5f",
           "arrowhead": 0,
           "arrowwidth": 1
          },
          "autotypenumbers": "strict",
          "coloraxis": {
           "colorbar": {
            "outlinewidth": 0,
            "ticks": ""
           }
          },
          "colorscale": {
           "diverging": [
            [
             0,
             "#8e0152"
            ],
            [
             0.1,
             "#c51b7d"
            ],
            [
             0.2,
             "#de77ae"
            ],
            [
             0.3,
             "#f1b6da"
            ],
            [
             0.4,
             "#fde0ef"
            ],
            [
             0.5,
             "#f7f7f7"
            ],
            [
             0.6,
             "#e6f5d0"
            ],
            [
             0.7,
             "#b8e186"
            ],
            [
             0.8,
             "#7fbc41"
            ],
            [
             0.9,
             "#4d9221"
            ],
            [
             1,
             "#276419"
            ]
           ],
           "sequential": [
            [
             0,
             "#0d0887"
            ],
            [
             0.1111111111111111,
             "#46039f"
            ],
            [
             0.2222222222222222,
             "#7201a8"
            ],
            [
             0.3333333333333333,
             "#9c179e"
            ],
            [
             0.4444444444444444,
             "#bd3786"
            ],
            [
             0.5555555555555556,
             "#d8576b"
            ],
            [
             0.6666666666666666,
             "#ed7953"
            ],
            [
             0.7777777777777778,
             "#fb9f3a"
            ],
            [
             0.8888888888888888,
             "#fdca26"
            ],
            [
             1,
             "#f0f921"
            ]
           ],
           "sequentialminus": [
            [
             0,
             "#0d0887"
            ],
            [
             0.1111111111111111,
             "#46039f"
            ],
            [
             0.2222222222222222,
             "#7201a8"
            ],
            [
             0.3333333333333333,
             "#9c179e"
            ],
            [
             0.4444444444444444,
             "#bd3786"
            ],
            [
             0.5555555555555556,
             "#d8576b"
            ],
            [
             0.6666666666666666,
             "#ed7953"
            ],
            [
             0.7777777777777778,
             "#fb9f3a"
            ],
            [
             0.8888888888888888,
             "#fdca26"
            ],
            [
             1,
             "#f0f921"
            ]
           ]
          },
          "colorway": [
           "#636efa",
           "#EF553B",
           "#00cc96",
           "#ab63fa",
           "#FFA15A",
           "#19d3f3",
           "#FF6692",
           "#B6E880",
           "#FF97FF",
           "#FECB52"
          ],
          "font": {
           "color": "#2a3f5f"
          },
          "geo": {
           "bgcolor": "white",
           "lakecolor": "white",
           "landcolor": "#E5ECF6",
           "showlakes": true,
           "showland": true,
           "subunitcolor": "white"
          },
          "hoverlabel": {
           "align": "left"
          },
          "hovermode": "closest",
          "mapbox": {
           "style": "light"
          },
          "paper_bgcolor": "white",
          "plot_bgcolor": "#E5ECF6",
          "polar": {
           "angularaxis": {
            "gridcolor": "white",
            "linecolor": "white",
            "ticks": ""
           },
           "bgcolor": "#E5ECF6",
           "radialaxis": {
            "gridcolor": "white",
            "linecolor": "white",
            "ticks": ""
           }
          },
          "scene": {
           "xaxis": {
            "backgroundcolor": "#E5ECF6",
            "gridcolor": "white",
            "gridwidth": 2,
            "linecolor": "white",
            "showbackground": true,
            "ticks": "",
            "zerolinecolor": "white"
           },
           "yaxis": {
            "backgroundcolor": "#E5ECF6",
            "gridcolor": "white",
            "gridwidth": 2,
            "linecolor": "white",
            "showbackground": true,
            "ticks": "",
            "zerolinecolor": "white"
           },
           "zaxis": {
            "backgroundcolor": "#E5ECF6",
            "gridcolor": "white",
            "gridwidth": 2,
            "linecolor": "white",
            "showbackground": true,
            "ticks": "",
            "zerolinecolor": "white"
           }
          },
          "shapedefaults": {
           "line": {
            "color": "#2a3f5f"
           }
          },
          "ternary": {
           "aaxis": {
            "gridcolor": "white",
            "linecolor": "white",
            "ticks": ""
           },
           "baxis": {
            "gridcolor": "white",
            "linecolor": "white",
            "ticks": ""
           },
           "bgcolor": "#E5ECF6",
           "caxis": {
            "gridcolor": "white",
            "linecolor": "white",
            "ticks": ""
           }
          },
          "title": {
           "x": 0.05
          },
          "xaxis": {
           "automargin": true,
           "gridcolor": "white",
           "linecolor": "white",
           "ticks": "",
           "title": {
            "standoff": 15
           },
           "zerolinecolor": "white",
           "zerolinewidth": 2
          },
          "yaxis": {
           "automargin": true,
           "gridcolor": "white",
           "linecolor": "white",
           "ticks": "",
           "title": {
            "standoff": 15
           },
           "zerolinecolor": "white",
           "zerolinewidth": 2
          }
         }
        },
        "xaxis": {
         "anchor": "y",
         "domain": [
          0,
          1
         ],
         "title": {
          "text": "Nodes"
         }
        },
        "yaxis": {
         "anchor": "x",
         "domain": [
          0,
          1
         ],
         "title": {
          "text": "Makespan"
         }
        }
       }
      },
      "text/html": [
       "<div>                            <div id=\"749f55dd-5717-491e-a09d-139032ba9504\" class=\"plotly-graph-div\" style=\"height:600px; width:100%;\"></div>            <script type=\"text/javascript\">                require([\"plotly\"], function(Plotly) {                    window.PLOTLYENV=window.PLOTLYENV || {};                                    if (document.getElementById(\"749f55dd-5717-491e-a09d-139032ba9504\")) {                    Plotly.newPlot(                        \"749f55dd-5717-491e-a09d-139032ba9504\",                        [{\"error_y\":{\"array\":[0.0,0.0,0.0,0.0,0.0,0.0,0.0,0.0,0.0,0.0,0.0,0.0]},\"hovertemplate\":\"Algorithm=LS_MZN_CPLEX32_1h<br>Nodes=%{x}<br>Makespan=%{y}<extra></extra>\",\"legendgroup\":\"LS_MZN_CPLEX32_1h\",\"line\":{\"color\":\"#FD3216\",\"dash\":\"solid\"},\"marker\":{\"symbol\":\"circle\"},\"mode\":\"lines\",\"name\":\"LS_MZN_CPLEX32_1h\",\"orientation\":\"v\",\"showlegend\":true,\"x\":[7,13,21,31,43,57,73,91,111,133,157,183],\"xaxis\":\"x\",\"y\":[175820.0,301430.0,250320.0,300420.0,405940.0,533090.0,744100.0,883930.0,1103760.0,1422800.0,1644230.0,2225650.0],\"yaxis\":\"y\",\"type\":\"scatter\"},{\"error_y\":{\"array\":[0.0,0.0,0.0,0.0,0.0,0.0,0.0,0.0,0.0,0.0,0.0,0.0,0.0]},\"hovertemplate\":\"Algorithm=BS_MZN_CPLEX32_1h<br>Nodes=%{x}<br>Makespan=%{y}<extra></extra>\",\"legendgroup\":\"BS_MZN_CPLEX32_1h\",\"line\":{\"color\":\"#00FE35\",\"dash\":\"solid\"},\"marker\":{\"symbol\":\"circle\"},\"mode\":\"lines\",\"name\":\"BS_MZN_CPLEX32_1h\",\"orientation\":\"v\",\"showlegend\":true,\"x\":[7,13,21,31,43,57,73,91,111,133,157,183,211],\"xaxis\":\"x\",\"y\":[95470.0,293754.0,241549.0,280300.0,393484.0,520072.0,708914.0,869430.0,1079926.0,1400335.0,1571519.0,1843188.0,3196960.0],\"yaxis\":\"y\",\"type\":\"scatter\"},{\"error_y\":{\"array\":[0.0,0.0,0.0,0.0,0.0,0.0,0.0,0.0,0.0,0.0,0.0,0.0,0.0,0.0,0.0]},\"hovertemplate\":\"Algorithm=LETSA<br>Nodes=%{x}<br>Makespan=%{y}<extra></extra>\",\"legendgroup\":\"LETSA\",\"line\":{\"color\":\"#6A76FC\",\"dash\":\"solid\"},\"marker\":{\"symbol\":\"circle\"},\"mode\":\"lines\",\"name\":\"LETSA\",\"orientation\":\"v\",\"showlegend\":true,\"x\":[7,13,21,31,43,57,73,91,111,133,157,183,211,241,273],\"xaxis\":\"x\",\"y\":[175820.0,190330.0,362720.0,372620.0,517640.0,643890.0,804600.0,1233200.0,1271860.0,1698800.0,1731430.0,1994300.0,2273000.0,2827400.0,3206600.0],\"yaxis\":\"y\",\"type\":\"scatter\"},{\"error_y\":{\"array\":[0.0,0.0,0.0,2721.964,2275.256,7810.151,3022.436,2778.369,3439.331,2861.025,1450.523,3960.162,2068.494,2764.65,2827.531]},\"hovertemplate\":\"Algorithm=LS_TS_3min<br>Nodes=%{x}<br>Makespan=%{y}<extra></extra>\",\"legendgroup\":\"LS_TS_3min\",\"line\":{\"color\":\"#FED4C4\",\"dash\":\"solid\"},\"marker\":{\"symbol\":\"circle\"},\"mode\":\"lines\",\"name\":\"LS_TS_3min\",\"orientation\":\"v\",\"showlegend\":true,\"x\":[7,13,21,31,43,57,73,91,111,133,157,183,211,241,273],\"xaxis\":\"x\",\"y\":[175820.0,301430.0,250320.0,305171.0,409429.0,547633.333,719056.667,882730.0,1087707.0,1359958.0,1554844.0,1776754.667,2101160.0,2388943.333,2827880.0],\"yaxis\":\"y\",\"type\":\"scatter\"},{\"error_y\":{\"array\":[0.0,0.0,0.0,2649.276,3161.134,1609.185,2446.996,2945.413,3365.694,2140.327,2172.857,2280.253,2758.581,3155.251,3384.816]},\"hovertemplate\":\"Algorithm=LS_TS_3min_opt<br>Nodes=%{x}<br>Makespan=%{y}<extra></extra>\",\"legendgroup\":\"LS_TS_3min_opt\",\"line\":{\"color\":\"#FE00CE\",\"dash\":\"solid\"},\"marker\":{\"symbol\":\"circle\"},\"mode\":\"lines\",\"name\":\"LS_TS_3min_opt\",\"orientation\":\"v\",\"showlegend\":true,\"x\":[7,13,21,31,43,57,73,91,111,133,157,183,211,241,273],\"xaxis\":\"x\",\"y\":[175820.0,190330.0,250320.0,305305.333,410169.667,536788.267,717656.667,874343.767,1081430.767,1337607.667,1537450.033,1751546.6,2073043.6,2350304.267,2774816.5],\"yaxis\":\"y\",\"type\":\"scatter\"},{\"error_y\":{\"array\":[0.0,0.0,0.0,10775.631,8690.375,16606.587,4555.486,7394.349,8292.229,11616.839,8165.665,10745.559,13392.877,12776.383,20146.211]},\"hovertemplate\":\"Algorithm=LS_GA_3min<br>Nodes=%{x}<br>Makespan=%{y}<extra></extra>\",\"legendgroup\":\"LS_GA_3min\",\"line\":{\"color\":\"#0DF9FF\",\"dash\":\"solid\"},\"marker\":{\"symbol\":\"circle\"},\"mode\":\"lines\",\"name\":\"LS_GA_3min\",\"orientation\":\"v\",\"showlegend\":true,\"x\":[7,13,21,31,43,57,73,91,111,133,157,183,211,241,273],\"xaxis\":\"x\",\"y\":[175820.0,301430.0,250320.0,317853.333,426646.667,575406.667,745356.667,903190.0,1110900.0,1402252.333,1580927.667,1812733.333,2150913.333,2440343.333,2926810.0],\"yaxis\":\"y\",\"type\":\"scatter\"},{\"error_y\":{\"array\":[0.0,0.0,0.0,9421.965,9930.604,10609.428,4936.503,6126.182,10036.998,10344.372,10652.623,7085.889,10966.885,13358.133,18327.899]},\"hovertemplate\":\"Algorithm=LS_GA_3min_opt<br>Nodes=%{x}<br>Makespan=%{y}<extra></extra>\",\"legendgroup\":\"LS_GA_3min_opt\",\"line\":{\"color\":\"#F6F926\",\"dash\":\"solid\"},\"marker\":{\"symbol\":\"circle\"},\"mode\":\"lines\",\"name\":\"LS_GA_3min_opt\",\"orientation\":\"v\",\"showlegend\":true,\"x\":[7,13,21,31,43,57,73,91,111,133,157,183,211,241,273],\"xaxis\":\"x\",\"y\":[175820.0,190330.0,250320.0,319690.0,426773.333,559998.133,743460.0,893288.933,1104097.933,1359159.3,1562695.6,1783417.667,2115446.033,2403956.933,2851032.2],\"yaxis\":\"y\",\"type\":\"scatter\"},{\"error_y\":{\"array\":[0.0,0.0,0.0,2787.011,2668.031,3572.761,9683.477,2233.992,3297.411,4918.44,4483.354,4699.662,3755.093,4079.591,7895.248]},\"hovertemplate\":\"Algorithm=LS_ABC_3min<br>Nodes=%{x}<br>Makespan=%{y}<extra></extra>\",\"legendgroup\":\"LS_ABC_3min\",\"line\":{\"color\":\"#FF9616\",\"dash\":\"solid\"},\"marker\":{\"symbol\":\"circle\"},\"mode\":\"lines\",\"name\":\"LS_ABC_3min\",\"orientation\":\"v\",\"showlegend\":true,\"x\":[7,13,21,31,43,57,73,91,111,133,157,183,211,241,273],\"xaxis\":\"x\",\"y\":[175820.0,301430.0,250320.0,305239.333,414691.667,558383.333,730660.0,889646.667,1097149.667,1385513.667,1567410.667,1795309.333,2120043.333,2405910.0,2856680.0],\"yaxis\":\"y\",\"type\":\"scatter\"},{\"error_y\":{\"array\":[0.0,0.0,0.0,2836.925,2754.912,4348.115,5836.424,3913.32,3160.746,1830.655,2227.376,2941.211,3382.55,2265.29,3409.821]},\"hovertemplate\":\"Algorithm=LS_ABC_3min_opt<br>Nodes=%{x}<br>Makespan=%{y}<extra></extra>\",\"legendgroup\":\"LS_ABC_3min_opt\",\"line\":{\"color\":\"#479B55\",\"dash\":\"solid\"},\"marker\":{\"symbol\":\"circle\"},\"mode\":\"lines\",\"name\":\"LS_ABC_3min_opt\",\"orientation\":\"v\",\"showlegend\":true,\"x\":[7,13,21,31,43,57,73,91,111,133,157,183,211,241,273],\"xaxis\":\"x\",\"y\":[175820.0,190330.0,250320.0,304650.333,413733.0,541204.867,724022.167,880910.333,1088577.5,1345670.333,1547871.233,1763680.433,2086450.467,2364707.467,2793018.0],\"yaxis\":\"y\",\"type\":\"scatter\"},{\"error_y\":{\"array\":[0.0,0.0,0.0,706.561,1063.311,1339.465,1317.012,1352.289,1451.114,3004.439,1943.53,2911.502,3393.268,2517.059,2876.53]},\"hovertemplate\":\"Algorithm=BS_TS_3min<br>Nodes=%{x}<br>Makespan=%{y}<extra></extra>\",\"legendgroup\":\"BS_TS_3min\",\"line\":{\"color\":\"#EEA6FB\",\"dash\":\"solid\"},\"marker\":{\"symbol\":\"circle\"},\"mode\":\"lines\",\"name\":\"BS_TS_3min\",\"orientation\":\"v\",\"showlegend\":true,\"x\":[7,13,21,31,43,57,73,91,111,133,157,183,211,241,273],\"xaxis\":\"x\",\"y\":[95470.0,293754.0,241549.0,284381.6,399504.7,534568.2,715276.8,875777.3,1088901.533,1357938.3,1560512.2,1789904.367,2115182.7,2401065.433,2839716.433],\"yaxis\":\"y\",\"type\":\"scatter\"},{\"error_y\":{\"array\":[0.0,0.0,170.71,596.241,916.924,1203.735,1027.746,1459.938,1548.776,1318.801,1830.706,2286.209,2194.992,2392.797,2422.301]},\"hovertemplate\":\"Algorithm=BS_TS_3min_opt<br>Nodes=%{x}<br>Makespan=%{y}<extra></extra>\",\"legendgroup\":\"BS_TS_3min_opt\",\"line\":{\"color\":\"#DC587D\",\"dash\":\"solid\"},\"marker\":{\"symbol\":\"circle\"},\"mode\":\"lines\",\"name\":\"BS_TS_3min_opt\",\"orientation\":\"v\",\"showlegend\":true,\"x\":[7,13,21,31,43,57,73,91,111,133,157,183,211,241,273],\"xaxis\":\"x\",\"y\":[95470.0,186390.0,241580.7,284552.6,397634.4,527952.867,713261.5,867854.167,1080032.933,1336455.733,1538439.433,1759556.833,2078424.433,2355362.6,2782617.2],\"yaxis\":\"y\",\"type\":\"scatter\"},{\"error_y\":{\"array\":[113.578,0.0,389.568,2389.038,2267.868,5627.506,5583.42,6507.884,4395.439,14719.042,7852.845,10913.234,18898.045,13556.913,23329.01]},\"hovertemplate\":\"Algorithm=BS_GA_3min<br>Nodes=%{x}<br>Makespan=%{y}<extra></extra>\",\"legendgroup\":\"BS_GA_3min\",\"line\":{\"color\":\"#D626FF\",\"dash\":\"solid\"},\"marker\":{\"symbol\":\"circle\"},\"mode\":\"lines\",\"name\":\"BS_GA_3min\",\"orientation\":\"v\",\"showlegend\":true,\"x\":[7,13,21,31,43,57,73,91,111,133,157,183,211,241,273],\"xaxis\":\"x\",\"y\":[95530.0,293754.0,242285.5,288383.8,400920.833,541585.033,718501.4,879985.1,1088722.0,1400443.367,1570330.4,1809024.5,2152692.4,2443629.9,2925691.367],\"yaxis\":\"y\",\"type\":\"scatter\"},{\"error_y\":{\"array\":[92.331,0.718,481.001,2496.008,2055.965,6098.212,3007.318,3445.587,3609.385,8138.023,6917.911,11370.05,16294.868,15835.406,17854.497]},\"hovertemplate\":\"Algorithm=BS_GA_3min_opt<br>Nodes=%{x}<br>Makespan=%{y}<extra></extra>\",\"legendgroup\":\"BS_GA_3min_opt\",\"line\":{\"color\":\"#6E899C\",\"dash\":\"solid\"},\"marker\":{\"symbol\":\"circle\"},\"mode\":\"lines\",\"name\":\"BS_GA_3min_opt\",\"orientation\":\"v\",\"showlegend\":true,\"x\":[7,13,21,31,43,57,73,91,111,133,157,183,211,241,273],\"xaxis\":\"x\",\"y\":[95535.0,186390.133,242175.0,288500.767,399697.6,531047.633,715815.0,872573.033,1081255.067,1349396.3,1551788.5,1781031.633,2117002.333,2403092.733,2850932.867],\"yaxis\":\"y\",\"type\":\"scatter\"},{\"error_y\":{\"array\":[448.862,17.636,542.88,1588.129,1282.815,6616.248,0.0,2905.137,3429.438,5941.483,4361.359,6443.195,6921.213,6595.968,11521.053]},\"hovertemplate\":\"Algorithm=BS_ABC_3min<br>Nodes=%{x}<br>Makespan=%{y}<extra></extra>\",\"legendgroup\":\"BS_ABC_3min\",\"line\":{\"color\":\"#00B5F7\",\"dash\":\"solid\"},\"marker\":{\"symbol\":\"circle\"},\"mode\":\"lines\",\"name\":\"BS_ABC_3min\",\"orientation\":\"v\",\"showlegend\":true,\"x\":[7,13,21,31,43,57,73,91,111,133,157,183,211,241,273],\"xaxis\":\"x\",\"y\":[96357.333,293768.4,242968.8,297170.867,413115.0,574776.533,744100.0,900317.167,1113439.467,1404495.167,1595467.8,1828485.767,2153945.4,2435140.133,2910476.1],\"yaxis\":\"y\",\"type\":\"scatter\"},{\"error_y\":{\"array\":[518.606,66.774,377.168,1597.034,1852.159,2470.69,6721.425,2985.56,2986.709,3395.403,2906.141,3891.769,4142.697,4726.683,6901.158]},\"hovertemplate\":\"Algorithm=BS_ABC_3min_opt<br>Nodes=%{x}<br>Makespan=%{y}<extra></extra>\",\"legendgroup\":\"BS_ABC_3min_opt\",\"line\":{\"color\":\"#B68E00\",\"dash\":\"solid\"},\"marker\":{\"symbol\":\"circle\"},\"mode\":\"lines\",\"name\":\"BS_ABC_3min_opt\",\"orientation\":\"v\",\"showlegend\":true,\"x\":[7,13,21,31,43,57,73,91,111,133,157,183,211,241,273],\"xaxis\":\"x\",\"y\":[96363.133,186506.8,242876.0,297499.867,410746.933,555115.8,741090.6,889247.033,1099624.833,1362284.833,1564624.567,1788744.067,2110653.3,2387177.833,2832678.4],\"yaxis\":\"y\",\"type\":\"scatter\"},{\"error_y\":{\"array\":[0.0,0.0,0.0,366.897,833.556,1876.513,749.766,978.127,1697.776,1378.296,1897.489,2542.995,1822.624,4021.415,3620.082]},\"hovertemplate\":\"Algorithm=BS_TS_6min<br>Nodes=%{x}<br>Makespan=%{y}<extra></extra>\",\"legendgroup\":\"BS_TS_6min\",\"line\":{\"color\":\"#C9FBE5\",\"dash\":\"solid\"},\"marker\":{\"symbol\":\"circle\"},\"mode\":\"lines\",\"name\":\"BS_TS_6min\",\"orientation\":\"v\",\"showlegend\":true,\"x\":[7,13,21,31,43,57,73,91,111,133,157,183,211,241,273],\"xaxis\":\"x\",\"y\":[95470.0,293754.0,241549.0,283697.5,398753.9,533025.0,713211.7,874214.6,1087578.0,1356441.4,1558079.6,1787018.4,2114726.6,2400164.3,2837956.8],\"yaxis\":\"y\",\"type\":\"scatter\"},{\"error_y\":{\"array\":[0.0,0.0,0.0,534.666,528.082,1021.537,883.145,949.75,1263.348,1995.293,872.097,2019.293,2304.643,2480.752,1732.234]},\"hovertemplate\":\"Algorithm=BS_TS_6min_opt<br>Nodes=%{x}<br>Makespan=%{y}<extra></extra>\",\"legendgroup\":\"BS_TS_6min_opt\",\"line\":{\"color\":\"#FF0092\",\"dash\":\"solid\"},\"marker\":{\"symbol\":\"circle\"},\"mode\":\"lines\",\"name\":\"BS_TS_6min_opt\",\"orientation\":\"v\",\"showlegend\":true,\"x\":[7,13,21,31,43,57,73,91,111,133,157,183,211,241,273],\"xaxis\":\"x\",\"y\":[95470.0,186390.0,241549.0,283780.0,396846.5,526211.9,712372.6,867520.2,1077777.6,1334279.2,1537299.4,1759277.2,2076096.9,2353188.8,2780802.0],\"yaxis\":\"y\",\"type\":\"scatter\"},{\"error_y\":{\"array\":[75.0,0.0,465.46,2987.039,2975.751,7497.714,2103.92,2778.388,2465.002,7281.24,5659.653,6537.084,11605.94,8390.727,17089.642]},\"hovertemplate\":\"Algorithm=BS_GA_6min<br>Nodes=%{x}<br>Makespan=%{y}<extra></extra>\",\"legendgroup\":\"BS_GA_6min\",\"line\":{\"color\":\"#22FFA7\",\"dash\":\"solid\"},\"marker\":{\"symbol\":\"circle\"},\"mode\":\"lines\",\"name\":\"BS_GA_6min\",\"orientation\":\"v\",\"showlegend\":true,\"x\":[7,13,21,31,43,57,73,91,111,133,157,183,211,241,273],\"xaxis\":\"x\",\"y\":[95545.0,293754.0,242035.6,288618.4,402053.6,541039.9,716085.8,875140.5,1087059.1,1379012.0,1560415.8,1791123.0,2129842.1,2412849.9,2899615.8],\"yaxis\":\"y\",\"type\":\"scatter\"},{\"error_y\":{\"array\":[96.047,0.0,435.803,973.016,1415.62,2500.148,2236.74,2139.463,2050.472,5005.54,6727.957,3591.602,12421.541,6944.001,8305.953]},\"hovertemplate\":\"Algorithm=BS_GA_6min_opt<br>Nodes=%{x}<br>Makespan=%{y}<extra></extra>\",\"legendgroup\":\"BS_GA_6min_opt\",\"line\":{\"color\":\"#E3EE9E\",\"dash\":\"solid\"},\"marker\":{\"symbol\":\"circle\"},\"mode\":\"lines\",\"name\":\"BS_GA_6min_opt\",\"orientation\":\"v\",\"showlegend\":true,\"x\":[7,13,21,31,43,57,73,91,111,133,157,183,211,241,273],\"xaxis\":\"x\",\"y\":[95515.0,186390.0,242214.7,286589.1,398751.3,527849.5,714241.8,868966.8,1079093.8,1339297.9,1543624.1,1766539.3,2099237.9,2383220.6,2820672.5],\"yaxis\":\"y\",\"type\":\"scatter\"},{\"error_y\":{\"array\":[341.424,0.0,479.312,1067.343,1594.433,4841.708,0.0,3132.246,2492.082,7598.751,1908.841,4135.125,6490.425,7371.872,12339.485]},\"hovertemplate\":\"Algorithm=BS_ABC_6min<br>Nodes=%{x}<br>Makespan=%{y}<extra></extra>\",\"legendgroup\":\"BS_ABC_6min\",\"line\":{\"color\":\"#86CE00\",\"dash\":\"solid\"},\"marker\":{\"symbol\":\"circle\"},\"mode\":\"lines\",\"name\":\"BS_ABC_6min\",\"orientation\":\"v\",\"showlegend\":true,\"x\":[7,13,21,31,43,57,73,91,111,133,157,183,211,241,273],\"xaxis\":\"x\",\"y\":[96189.2,293754.0,242591.5,296717.1,411456.0,570482.7,744100.0,898213.8,1110906.9,1394743.4,1591235.4,1826008.6,2152089.9,2431173.3,2892396.0],\"yaxis\":\"y\",\"type\":\"scatter\"},{\"error_y\":{\"array\":[195.015,48.167,360.094,1284.098,1561.495,1869.218,8517.688,2077.232,2269.249,3231.323,2986.818,2838.121,2431.811,1900.354,2944.781]},\"hovertemplate\":\"Algorithm=BS_ABC_6min_opt<br>Nodes=%{x}<br>Makespan=%{y}<extra></extra>\",\"legendgroup\":\"BS_ABC_6min_opt\",\"line\":{\"color\":\"#BC7196\",\"dash\":\"solid\"},\"marker\":{\"symbol\":\"circle\"},\"mode\":\"lines\",\"name\":\"BS_ABC_6min_opt\",\"orientation\":\"v\",\"showlegend\":true,\"x\":[7,13,21,31,43,57,73,91,111,133,157,183,211,241,273],\"xaxis\":\"x\",\"y\":[95926.1,186472.6,242443.6,296711.0,409919.8,551762.7,738460.2,888734.4,1099708.9,1358345.4,1563212.9,1786146.3,2107050.5,2384726.4,2820452.1],\"yaxis\":\"y\",\"type\":\"scatter\"},{\"error_y\":{\"array\":[0.0,0.0,0.0,100.5,371.5,2007.5,191.0,587.0,77.5,1231.5,94.0,1026.5,36.0,1403.5,4051.5]},\"hovertemplate\":\"Algorithm=BS_TS_60min<br>Nodes=%{x}<br>Makespan=%{y}<extra></extra>\",\"legendgroup\":\"BS_TS_60min\",\"line\":{\"color\":\"#7E7DCD\",\"dash\":\"solid\"},\"marker\":{\"symbol\":\"circle\"},\"mode\":\"lines\",\"name\":\"BS_TS_60min\",\"orientation\":\"v\",\"showlegend\":true,\"x\":[7,13,21,31,43,57,73,91,111,133,157,183,211,241,273],\"xaxis\":\"x\",\"y\":[95470.0,293754.0,241549.0,281466.5,394376.5,525830.5,708049.0,867536.0,1078500.5,1347786.5,1547807.0,1779276.5,2106339.0,2393354.5,2834964.5],\"yaxis\":\"y\",\"type\":\"scatter\"},{\"error_y\":{\"array\":[0.0,0.0,0.0,356.0,509.0,283.5,22.0,777.0,657.5,748.5,92.5,313.5,220.0,1254.0,2184.0]},\"hovertemplate\":\"Algorithm=BS_TS_60min_opt<br>Nodes=%{x}<br>Makespan=%{y}<extra></extra>\",\"legendgroup\":\"BS_TS_60min_opt\",\"line\":{\"color\":\"#FC6955\",\"dash\":\"solid\"},\"marker\":{\"symbol\":\"circle\"},\"mode\":\"lines\",\"name\":\"BS_TS_60min_opt\",\"orientation\":\"v\",\"showlegend\":true,\"x\":[7,13,21,31,43,57,73,91,111,133,157,183,211,241,273],\"xaxis\":\"x\",\"y\":[95470.0,186390.0,241549.0,281272.0,392997.0,521393.5,707397.0,859924.0,1070292.5,1325681.5,1528157.5,1748187.5,2070814.0,2345130.0,2772898.0],\"yaxis\":\"y\",\"type\":\"scatter\"},{\"error_y\":{\"array\":[0.0,0.0,0.0,0.0,0.0,0.0,0.0,0.0,0.0,0.0,0.0,0.0,0.0,0.0,0.0]},\"hovertemplate\":\"Algorithm=BS_GA_60min<br>Nodes=%{x}<br>Makespan=%{y}<extra></extra>\",\"legendgroup\":\"BS_GA_60min\",\"line\":{\"color\":\"#E48F72\",\"dash\":\"solid\"},\"marker\":{\"symbol\":\"circle\"},\"mode\":\"lines\",\"name\":\"BS_GA_60min\",\"orientation\":\"v\",\"showlegend\":true,\"x\":[7,13,21,31,43,57,73,91,111,133,157,183,211,241,273],\"xaxis\":\"x\",\"y\":[95620.0,293754.0,242500.0,287758.0,397036.0,523336.0,709950.0,875936.0,1083032.0,1380424.0,1550078.0,1772450.0,2102746.0,2389600.0,2837656.0],\"yaxis\":\"y\",\"type\":\"scatter\"},{\"error_y\":{\"array\":[0.0,0.0,0.0,0.0,0.0,0.0,0.0,0.0,0.0,0.0,0.0,0.0,0.0,0.0,0.0]},\"hovertemplate\":\"Algorithm=BS_GA_60min_opt<br>Nodes=%{x}<br>Makespan=%{y}<extra></extra>\",\"legendgroup\":\"BS_GA_60min_opt\",\"line\":{\"color\":\"#FD3216\",\"dash\":\"solid\"},\"marker\":{\"symbol\":\"circle\"},\"mode\":\"lines\",\"name\":\"BS_GA_60min_opt\",\"orientation\":\"v\",\"showlegend\":true,\"x\":[7,13,21,31,43,57,73,91,111,133,157,183,211,241,273],\"xaxis\":\"x\",\"y\":[95470.0,186390.0,241549.0,284606.0,397792.0,524590.0,713030.0,865730.0,1074041.0,1331721.0,1532261.0,1755403.0,2077144.0,2361546.0,2792260.0],\"yaxis\":\"y\",\"type\":\"scatter\"},{\"error_y\":{\"array\":[0.0,0.0,0.0,0.0,0.0,0.0,0.0,0.0,0.0,0.0,0.0,0.0,0.0,0.0,0.0]},\"hovertemplate\":\"Algorithm=BS_ABC_60min<br>Nodes=%{x}<br>Makespan=%{y}<extra></extra>\",\"legendgroup\":\"BS_ABC_60min\",\"line\":{\"color\":\"#00FE35\",\"dash\":\"solid\"},\"marker\":{\"symbol\":\"circle\"},\"mode\":\"lines\",\"name\":\"BS_ABC_60min\",\"orientation\":\"v\",\"showlegend\":true,\"x\":[7,13,21,31,43,57,73,91,111,133,157,183,211,241,273],\"xaxis\":\"x\",\"y\":[95723.0,293754.0,242020.0,295056.0,408406.0,563996.0,723661.0,893732.0,1106778.0,1389220.0,1590069.0,1819742.0,2142824.0,2426042.0,2879131.0],\"yaxis\":\"y\",\"type\":\"scatter\"},{\"error_y\":{\"array\":[0.0,0.0,0.0,0.0,0.0,0.0,0.0,0.0,0.0,0.0,0.0,0.0,0.0,0.0,0.0]},\"hovertemplate\":\"Algorithm=BS_ABC_60min_opt<br>Nodes=%{x}<br>Makespan=%{y}<extra></extra>\",\"legendgroup\":\"BS_ABC_60min_opt\",\"line\":{\"color\":\"#6A76FC\",\"dash\":\"solid\"},\"marker\":{\"symbol\":\"circle\"},\"mode\":\"lines\",\"name\":\"BS_ABC_60min_opt\",\"orientation\":\"v\",\"showlegend\":true,\"x\":[7,13,21,31,43,57,73,91,111,133,157,183,211,241,273],\"xaxis\":\"x\",\"y\":[95620.0,186394.0,242500.0,294545.0,407974.0,545710.0,725570.0,885766.0,1096782.0,1354716.0,1558319.0,1780216.0,2097656.0,2376331.0,2811524.0],\"yaxis\":\"y\",\"type\":\"scatter\"}],                        {\"template\":{\"data\":{\"bar\":[{\"error_x\":{\"color\":\"#2a3f5f\"},\"error_y\":{\"color\":\"#2a3f5f\"},\"marker\":{\"line\":{\"color\":\"#E5ECF6\",\"width\":0.5},\"pattern\":{\"fillmode\":\"overlay\",\"size\":10,\"solidity\":0.2}},\"type\":\"bar\"}],\"barpolar\":[{\"marker\":{\"line\":{\"color\":\"#E5ECF6\",\"width\":0.5},\"pattern\":{\"fillmode\":\"overlay\",\"size\":10,\"solidity\":0.2}},\"type\":\"barpolar\"}],\"carpet\":[{\"aaxis\":{\"endlinecolor\":\"#2a3f5f\",\"gridcolor\":\"white\",\"linecolor\":\"white\",\"minorgridcolor\":\"white\",\"startlinecolor\":\"#2a3f5f\"},\"baxis\":{\"endlinecolor\":\"#2a3f5f\",\"gridcolor\":\"white\",\"linecolor\":\"white\",\"minorgridcolor\":\"white\",\"startlinecolor\":\"#2a3f5f\"},\"type\":\"carpet\"}],\"choropleth\":[{\"colorbar\":{\"outlinewidth\":0,\"ticks\":\"\"},\"type\":\"choropleth\"}],\"contour\":[{\"colorbar\":{\"outlinewidth\":0,\"ticks\":\"\"},\"colorscale\":[[0.0,\"#0d0887\"],[0.1111111111111111,\"#46039f\"],[0.2222222222222222,\"#7201a8\"],[0.3333333333333333,\"#9c179e\"],[0.4444444444444444,\"#bd3786\"],[0.5555555555555556,\"#d8576b\"],[0.6666666666666666,\"#ed7953\"],[0.7777777777777778,\"#fb9f3a\"],[0.8888888888888888,\"#fdca26\"],[1.0,\"#f0f921\"]],\"type\":\"contour\"}],\"contourcarpet\":[{\"colorbar\":{\"outlinewidth\":0,\"ticks\":\"\"},\"type\":\"contourcarpet\"}],\"heatmap\":[{\"colorbar\":{\"outlinewidth\":0,\"ticks\":\"\"},\"colorscale\":[[0.0,\"#0d0887\"],[0.1111111111111111,\"#46039f\"],[0.2222222222222222,\"#7201a8\"],[0.3333333333333333,\"#9c179e\"],[0.4444444444444444,\"#bd3786\"],[0.5555555555555556,\"#d8576b\"],[0.6666666666666666,\"#ed7953\"],[0.7777777777777778,\"#fb9f3a\"],[0.8888888888888888,\"#fdca26\"],[1.0,\"#f0f921\"]],\"type\":\"heatmap\"}],\"heatmapgl\":[{\"colorbar\":{\"outlinewidth\":0,\"ticks\":\"\"},\"colorscale\":[[0.0,\"#0d0887\"],[0.1111111111111111,\"#46039f\"],[0.2222222222222222,\"#7201a8\"],[0.3333333333333333,\"#9c179e\"],[0.4444444444444444,\"#bd3786\"],[0.5555555555555556,\"#d8576b\"],[0.6666666666666666,\"#ed7953\"],[0.7777777777777778,\"#fb9f3a\"],[0.8888888888888888,\"#fdca26\"],[1.0,\"#f0f921\"]],\"type\":\"heatmapgl\"}],\"histogram\":[{\"marker\":{\"pattern\":{\"fillmode\":\"overlay\",\"size\":10,\"solidity\":0.2}},\"type\":\"histogram\"}],\"histogram2d\":[{\"colorbar\":{\"outlinewidth\":0,\"ticks\":\"\"},\"colorscale\":[[0.0,\"#0d0887\"],[0.1111111111111111,\"#46039f\"],[0.2222222222222222,\"#7201a8\"],[0.3333333333333333,\"#9c179e\"],[0.4444444444444444,\"#bd3786\"],[0.5555555555555556,\"#d8576b\"],[0.6666666666666666,\"#ed7953\"],[0.7777777777777778,\"#fb9f3a\"],[0.8888888888888888,\"#fdca26\"],[1.0,\"#f0f921\"]],\"type\":\"histogram2d\"}],\"histogram2dcontour\":[{\"colorbar\":{\"outlinewidth\":0,\"ticks\":\"\"},\"colorscale\":[[0.0,\"#0d0887\"],[0.1111111111111111,\"#46039f\"],[0.2222222222222222,\"#7201a8\"],[0.3333333333333333,\"#9c179e\"],[0.4444444444444444,\"#bd3786\"],[0.5555555555555556,\"#d8576b\"],[0.6666666666666666,\"#ed7953\"],[0.7777777777777778,\"#fb9f3a\"],[0.8888888888888888,\"#fdca26\"],[1.0,\"#f0f921\"]],\"type\":\"histogram2dcontour\"}],\"mesh3d\":[{\"colorbar\":{\"outlinewidth\":0,\"ticks\":\"\"},\"type\":\"mesh3d\"}],\"parcoords\":[{\"line\":{\"colorbar\":{\"outlinewidth\":0,\"ticks\":\"\"}},\"type\":\"parcoords\"}],\"pie\":[{\"automargin\":true,\"type\":\"pie\"}],\"scatter\":[{\"marker\":{\"colorbar\":{\"outlinewidth\":0,\"ticks\":\"\"}},\"type\":\"scatter\"}],\"scatter3d\":[{\"line\":{\"colorbar\":{\"outlinewidth\":0,\"ticks\":\"\"}},\"marker\":{\"colorbar\":{\"outlinewidth\":0,\"ticks\":\"\"}},\"type\":\"scatter3d\"}],\"scattercarpet\":[{\"marker\":{\"colorbar\":{\"outlinewidth\":0,\"ticks\":\"\"}},\"type\":\"scattercarpet\"}],\"scattergeo\":[{\"marker\":{\"colorbar\":{\"outlinewidth\":0,\"ticks\":\"\"}},\"type\":\"scattergeo\"}],\"scattergl\":[{\"marker\":{\"colorbar\":{\"outlinewidth\":0,\"ticks\":\"\"}},\"type\":\"scattergl\"}],\"scattermapbox\":[{\"marker\":{\"colorbar\":{\"outlinewidth\":0,\"ticks\":\"\"}},\"type\":\"scattermapbox\"}],\"scatterpolar\":[{\"marker\":{\"colorbar\":{\"outlinewidth\":0,\"ticks\":\"\"}},\"type\":\"scatterpolar\"}],\"scatterpolargl\":[{\"marker\":{\"colorbar\":{\"outlinewidth\":0,\"ticks\":\"\"}},\"type\":\"scatterpolargl\"}],\"scatterternary\":[{\"marker\":{\"colorbar\":{\"outlinewidth\":0,\"ticks\":\"\"}},\"type\":\"scatterternary\"}],\"surface\":[{\"colorbar\":{\"outlinewidth\":0,\"ticks\":\"\"},\"colorscale\":[[0.0,\"#0d0887\"],[0.1111111111111111,\"#46039f\"],[0.2222222222222222,\"#7201a8\"],[0.3333333333333333,\"#9c179e\"],[0.4444444444444444,\"#bd3786\"],[0.5555555555555556,\"#d8576b\"],[0.6666666666666666,\"#ed7953\"],[0.7777777777777778,\"#fb9f3a\"],[0.8888888888888888,\"#fdca26\"],[1.0,\"#f0f921\"]],\"type\":\"surface\"}],\"table\":[{\"cells\":{\"fill\":{\"color\":\"#EBF0F8\"},\"line\":{\"color\":\"white\"}},\"header\":{\"fill\":{\"color\":\"#C8D4E3\"},\"line\":{\"color\":\"white\"}},\"type\":\"table\"}]},\"layout\":{\"annotationdefaults\":{\"arrowcolor\":\"#2a3f5f\",\"arrowhead\":0,\"arrowwidth\":1},\"autotypenumbers\":\"strict\",\"coloraxis\":{\"colorbar\":{\"outlinewidth\":0,\"ticks\":\"\"}},\"colorscale\":{\"diverging\":[[0,\"#8e0152\"],[0.1,\"#c51b7d\"],[0.2,\"#de77ae\"],[0.3,\"#f1b6da\"],[0.4,\"#fde0ef\"],[0.5,\"#f7f7f7\"],[0.6,\"#e6f5d0\"],[0.7,\"#b8e186\"],[0.8,\"#7fbc41\"],[0.9,\"#4d9221\"],[1,\"#276419\"]],\"sequential\":[[0.0,\"#0d0887\"],[0.1111111111111111,\"#46039f\"],[0.2222222222222222,\"#7201a8\"],[0.3333333333333333,\"#9c179e\"],[0.4444444444444444,\"#bd3786\"],[0.5555555555555556,\"#d8576b\"],[0.6666666666666666,\"#ed7953\"],[0.7777777777777778,\"#fb9f3a\"],[0.8888888888888888,\"#fdca26\"],[1.0,\"#f0f921\"]],\"sequentialminus\":[[0.0,\"#0d0887\"],[0.1111111111111111,\"#46039f\"],[0.2222222222222222,\"#7201a8\"],[0.3333333333333333,\"#9c179e\"],[0.4444444444444444,\"#bd3786\"],[0.5555555555555556,\"#d8576b\"],[0.6666666666666666,\"#ed7953\"],[0.7777777777777778,\"#fb9f3a\"],[0.8888888888888888,\"#fdca26\"],[1.0,\"#f0f921\"]]},\"colorway\":[\"#636efa\",\"#EF553B\",\"#00cc96\",\"#ab63fa\",\"#FFA15A\",\"#19d3f3\",\"#FF6692\",\"#B6E880\",\"#FF97FF\",\"#FECB52\"],\"font\":{\"color\":\"#2a3f5f\"},\"geo\":{\"bgcolor\":\"white\",\"lakecolor\":\"white\",\"landcolor\":\"#E5ECF6\",\"showlakes\":true,\"showland\":true,\"subunitcolor\":\"white\"},\"hoverlabel\":{\"align\":\"left\"},\"hovermode\":\"closest\",\"mapbox\":{\"style\":\"light\"},\"paper_bgcolor\":\"white\",\"plot_bgcolor\":\"#E5ECF6\",\"polar\":{\"angularaxis\":{\"gridcolor\":\"white\",\"linecolor\":\"white\",\"ticks\":\"\"},\"bgcolor\":\"#E5ECF6\",\"radialaxis\":{\"gridcolor\":\"white\",\"linecolor\":\"white\",\"ticks\":\"\"}},\"scene\":{\"xaxis\":{\"backgroundcolor\":\"#E5ECF6\",\"gridcolor\":\"white\",\"gridwidth\":2,\"linecolor\":\"white\",\"showbackground\":true,\"ticks\":\"\",\"zerolinecolor\":\"white\"},\"yaxis\":{\"backgroundcolor\":\"#E5ECF6\",\"gridcolor\":\"white\",\"gridwidth\":2,\"linecolor\":\"white\",\"showbackground\":true,\"ticks\":\"\",\"zerolinecolor\":\"white\"},\"zaxis\":{\"backgroundcolor\":\"#E5ECF6\",\"gridcolor\":\"white\",\"gridwidth\":2,\"linecolor\":\"white\",\"showbackground\":true,\"ticks\":\"\",\"zerolinecolor\":\"white\"}},\"shapedefaults\":{\"line\":{\"color\":\"#2a3f5f\"}},\"ternary\":{\"aaxis\":{\"gridcolor\":\"white\",\"linecolor\":\"white\",\"ticks\":\"\"},\"baxis\":{\"gridcolor\":\"white\",\"linecolor\":\"white\",\"ticks\":\"\"},\"bgcolor\":\"#E5ECF6\",\"caxis\":{\"gridcolor\":\"white\",\"linecolor\":\"white\",\"ticks\":\"\"}},\"title\":{\"x\":0.05},\"xaxis\":{\"automargin\":true,\"gridcolor\":\"white\",\"linecolor\":\"white\",\"ticks\":\"\",\"title\":{\"standoff\":15},\"zerolinecolor\":\"white\",\"zerolinewidth\":2},\"yaxis\":{\"automargin\":true,\"gridcolor\":\"white\",\"linecolor\":\"white\",\"ticks\":\"\",\"title\":{\"standoff\":15},\"zerolinecolor\":\"white\",\"zerolinewidth\":2}}},\"xaxis\":{\"anchor\":\"y\",\"domain\":[0.0,1.0],\"title\":{\"text\":\"Nodes\"}},\"yaxis\":{\"anchor\":\"x\",\"domain\":[0.0,1.0],\"title\":{\"text\":\"Makespan\"}},\"legend\":{\"title\":{\"text\":\"Algorithm\"},\"tracegroupgap\":0},\"margin\":{\"t\":60},\"height\":600},                        {\"responsive\": true}                    ).then(function(){\n",
       "                            \n",
       "var gd = document.getElementById('749f55dd-5717-491e-a09d-139032ba9504');\n",
       "var x = new MutationObserver(function (mutations, observer) {{\n",
       "        var display = window.getComputedStyle(gd).display;\n",
       "        if (!display || display === 'none') {{\n",
       "            console.log([gd, 'removed!']);\n",
       "            Plotly.purge(gd);\n",
       "            observer.disconnect();\n",
       "        }}\n",
       "}});\n",
       "\n",
       "// Listen for the removal of the full notebook cells\n",
       "var notebookContainer = gd.closest('#notebook-container');\n",
       "if (notebookContainer) {{\n",
       "    x.observe(notebookContainer, {childList: true});\n",
       "}}\n",
       "\n",
       "// Listen for the clearing of the current output cell\n",
       "var outputEl = gd.closest('.output');\n",
       "if (outputEl) {{\n",
       "    x.observe(outputEl, {childList: true});\n",
       "}}\n",
       "\n",
       "                        })                };                });            </script>        </div>"
      ]
     },
     "metadata": {},
     "output_type": "display_data"
    }
   ],
   "source": [
    "fig = px.line(meticDF, x=\"Nodes\", y=\"Makespan\", error_y=\"std_Makespan\", color=\"Algorithm\", color_discrete_sequence=px.colors.qualitative.Light24,height=600)\n",
    "fig.show()\n",
    "fig.write_html(\"benchmark.html\", include_plotlyjs=True)"
   ]
  },
  {
   "cell_type": "code",
   "execution_count": 5,
   "metadata": {},
   "outputs": [
    {
     "data": {
      "text/html": [
       "<div>\n",
       "<style scoped>\n",
       "    .dataframe tbody tr th:only-of-type {\n",
       "        vertical-align: middle;\n",
       "    }\n",
       "\n",
       "    .dataframe tbody tr th {\n",
       "        vertical-align: top;\n",
       "    }\n",
       "\n",
       "    .dataframe thead th {\n",
       "        text-align: right;\n",
       "    }\n",
       "</style>\n",
       "<table border=\"1\" class=\"dataframe\">\n",
       "  <thead>\n",
       "    <tr style=\"text-align: right;\">\n",
       "      <th></th>\n",
       "      <th>test</th>\n",
       "      <th>statistic</th>\n",
       "      <th>pvalue</th>\n",
       "      <th>difference</th>\n",
       "    </tr>\n",
       "  </thead>\n",
       "  <tbody>\n",
       "    <tr>\n",
       "      <th>0</th>\n",
       "      <td>bom_2_2_10_5</td>\n",
       "      <td>52.811881</td>\n",
       "      <td>3.404440e-12</td>\n",
       "      <td>True</td>\n",
       "    </tr>\n",
       "    <tr>\n",
       "      <th>1</th>\n",
       "      <td>bom_2_3_10_5</td>\n",
       "      <td>55.364706</td>\n",
       "      <td>9.499634e-13</td>\n",
       "      <td>True</td>\n",
       "    </tr>\n",
       "    <tr>\n",
       "      <th>2</th>\n",
       "      <td>bom_2_4_10_5</td>\n",
       "      <td>52.907407</td>\n",
       "      <td>3.245656e-12</td>\n",
       "      <td>True</td>\n",
       "    </tr>\n",
       "    <tr>\n",
       "      <th>3</th>\n",
       "      <td>bom_2_5_10_5</td>\n",
       "      <td>58.066667</td>\n",
       "      <td>2.460274e-13</td>\n",
       "      <td>True</td>\n",
       "    </tr>\n",
       "    <tr>\n",
       "      <th>4</th>\n",
       "      <td>bom_2_6_10_5</td>\n",
       "      <td>50.400000</td>\n",
       "      <td>1.137049e-11</td>\n",
       "      <td>True</td>\n",
       "    </tr>\n",
       "    <tr>\n",
       "      <th>5</th>\n",
       "      <td>bom_2_7_10_5</td>\n",
       "      <td>45.600000</td>\n",
       "      <td>1.253389e-10</td>\n",
       "      <td>True</td>\n",
       "    </tr>\n",
       "    <tr>\n",
       "      <th>6</th>\n",
       "      <td>bom_2_8_10_5</td>\n",
       "      <td>54.600000</td>\n",
       "      <td>1.392389e-12</td>\n",
       "      <td>True</td>\n",
       "    </tr>\n",
       "    <tr>\n",
       "      <th>7</th>\n",
       "      <td>bom_2_9_10_5</td>\n",
       "      <td>60.000000</td>\n",
       "      <td>9.357623e-14</td>\n",
       "      <td>True</td>\n",
       "    </tr>\n",
       "    <tr>\n",
       "      <th>8</th>\n",
       "      <td>bom_2_10_10_5</td>\n",
       "      <td>45.600000</td>\n",
       "      <td>1.253389e-10</td>\n",
       "      <td>True</td>\n",
       "    </tr>\n",
       "    <tr>\n",
       "      <th>9</th>\n",
       "      <td>bom_2_11_10_5</td>\n",
       "      <td>56.266667</td>\n",
       "      <td>6.051298e-13</td>\n",
       "      <td>True</td>\n",
       "    </tr>\n",
       "    <tr>\n",
       "      <th>10</th>\n",
       "      <td>bom_2_12_10_5</td>\n",
       "      <td>58.066667</td>\n",
       "      <td>2.460274e-13</td>\n",
       "      <td>True</td>\n",
       "    </tr>\n",
       "    <tr>\n",
       "      <th>11</th>\n",
       "      <td>bom_2_13_10_5</td>\n",
       "      <td>49.266667</td>\n",
       "      <td>2.003915e-11</td>\n",
       "      <td>True</td>\n",
       "    </tr>\n",
       "    <tr>\n",
       "      <th>12</th>\n",
       "      <td>bom_2_14_10_5</td>\n",
       "      <td>45.600000</td>\n",
       "      <td>1.253389e-10</td>\n",
       "      <td>True</td>\n",
       "    </tr>\n",
       "    <tr>\n",
       "      <th>13</th>\n",
       "      <td>bom_2_15_10_5</td>\n",
       "      <td>49.266667</td>\n",
       "      <td>2.003915e-11</td>\n",
       "      <td>True</td>\n",
       "    </tr>\n",
       "    <tr>\n",
       "      <th>14</th>\n",
       "      <td>bom_2_16_10_5</td>\n",
       "      <td>53.066667</td>\n",
       "      <td>2.997228e-12</td>\n",
       "      <td>True</td>\n",
       "    </tr>\n",
       "  </tbody>\n",
       "</table>\n",
       "</div>"
      ],
      "text/plain": [
       "             test  statistic        pvalue  difference\n",
       "0    bom_2_2_10_5  52.811881  3.404440e-12        True\n",
       "1    bom_2_3_10_5  55.364706  9.499634e-13        True\n",
       "2    bom_2_4_10_5  52.907407  3.245656e-12        True\n",
       "3    bom_2_5_10_5  58.066667  2.460274e-13        True\n",
       "4    bom_2_6_10_5  50.400000  1.137049e-11        True\n",
       "5    bom_2_7_10_5  45.600000  1.253389e-10        True\n",
       "6    bom_2_8_10_5  54.600000  1.392389e-12        True\n",
       "7    bom_2_9_10_5  60.000000  9.357623e-14        True\n",
       "8   bom_2_10_10_5  45.600000  1.253389e-10        True\n",
       "9   bom_2_11_10_5  56.266667  6.051298e-13        True\n",
       "10  bom_2_12_10_5  58.066667  2.460274e-13        True\n",
       "11  bom_2_13_10_5  49.266667  2.003915e-11        True\n",
       "12  bom_2_14_10_5  45.600000  1.253389e-10        True\n",
       "13  bom_2_15_10_5  49.266667  2.003915e-11        True\n",
       "14  bom_2_16_10_5  53.066667  2.997228e-12        True"
      ]
     },
     "execution_count": 5,
     "metadata": {},
     "output_type": "execute_result"
    }
   ],
   "source": [
    "from scipy import stats\n",
    "\n",
    "opt = \"ON\"\n",
    "df = pd.read_csv(\"results_2_2-16_BS_3min.csv\")\n",
    "f_res = pd.DataFrame(columns=['test', 'statistic', 'pvalue', 'difference'])\n",
    "\n",
    "for bom in boms:\n",
    "    abc = df[(df['Bom'] == bom) & (df['Algorithm'] == \"BS_ABC_3min\") & (df['Optimizations'] == opt)]['Makespan'].to_list()\n",
    "    ga = df[(df['Bom'] == bom) & (df['Algorithm'] == \"BS_GA_3min\") & (df['Optimizations'] == opt)]['Makespan'].to_list()\n",
    "    ts = df[(df['Bom'] == bom) & (df['Algorithm'] == \"BS_TS_3min\") & (df['Optimizations'] == opt)]['Makespan'].to_list()\n",
    "    #print(bom, abc, ga, ts, sep='\\n')\n",
    "    f_test = stats.friedmanchisquare(abc, ga, ts)\n",
    "\n",
    "    f_res.loc[len(f_res)] = [bom, f_test[0], f_test[1], True if f_test[1] < 0.05 else False]\n",
    "\n",
    "f_res\n"
   ]
  },
  {
   "cell_type": "code",
   "execution_count": 26,
   "metadata": {},
   "outputs": [
    {
     "data": {
      "application/vnd.plotly.v1+json": {
       "config": {
        "plotlyServerURL": "https://plot.ly"
       },
       "data": [
        {
         "error_y": {
          "array": [
           0,
           0,
           0,
           0,
           0,
           0,
           0,
           0,
           0,
           0,
           0,
           0
          ]
         },
         "hovertemplate": "Algorithm=CPLEX 1h<br>Nodes=%{x}<br>Makespan=%{y}<extra></extra>",
         "legendgroup": "CPLEX 1h",
         "line": {
          "color": "#636efa",
          "dash": "solid"
         },
         "marker": {
          "symbol": "circle"
         },
         "mode": "lines",
         "name": "CPLEX 1h",
         "orientation": "v",
         "showlegend": true,
         "type": "scatter",
         "x": [
          7,
          13,
          21,
          31,
          43,
          57,
          73,
          91,
          111,
          133,
          157,
          183
         ],
         "xaxis": "x",
         "y": [
          175820,
          301430,
          250320,
          300420,
          405940,
          533090,
          744100,
          883930,
          1103760,
          1422800,
          1644230,
          2225650
         ],
         "yaxis": "y"
        },
        {
         "error_y": {
          "array": [
           0,
           0,
           0,
           0,
           0,
           0,
           0,
           0,
           0,
           0,
           0,
           0,
           0,
           0,
           0
          ]
         },
         "hovertemplate": "Algorithm=LETSA<br>Nodes=%{x}<br>Makespan=%{y}<extra></extra>",
         "legendgroup": "LETSA",
         "line": {
          "color": "#EF553B",
          "dash": "solid"
         },
         "marker": {
          "symbol": "circle"
         },
         "mode": "lines",
         "name": "LETSA",
         "orientation": "v",
         "showlegend": true,
         "type": "scatter",
         "x": [
          7,
          13,
          21,
          31,
          43,
          57,
          73,
          91,
          111,
          133,
          157,
          183,
          211,
          241,
          273
         ],
         "xaxis": "x",
         "y": [
          175820,
          190330,
          362720,
          372620,
          517640,
          643890,
          804600,
          1233200,
          1271860,
          1698800,
          1731430,
          1994300,
          2273000,
          2827400,
          3206600
         ],
         "yaxis": "y"
        },
        {
         "error_y": {
          "array": [
           0,
           0,
           0,
           2649.276,
           3161.134,
           1609.185,
           2446.996,
           2945.413,
           3365.694,
           2140.327,
           2172.857,
           2280.253,
           2758.581,
           3155.251,
           3384.816
          ]
         },
         "hovertemplate": "Algorithm=Tabu Search 3min<br>Nodes=%{x}<br>Makespan=%{y}<extra></extra>",
         "legendgroup": "Tabu Search 3min",
         "line": {
          "color": "#00cc96",
          "dash": "solid"
         },
         "marker": {
          "symbol": "circle"
         },
         "mode": "lines",
         "name": "Tabu Search 3min",
         "orientation": "v",
         "showlegend": true,
         "type": "scatter",
         "x": [
          7,
          13,
          21,
          31,
          43,
          57,
          73,
          91,
          111,
          133,
          157,
          183,
          211,
          241,
          273
         ],
         "xaxis": "x",
         "y": [
          175820,
          190330,
          250320,
          305305.333,
          410169.667,
          536788.267,
          717656.667,
          874343.767,
          1081430.767,
          1337607.667,
          1537450.033,
          1751546.6,
          2073043.6,
          2350304.267,
          2774816.5
         ],
         "yaxis": "y"
        },
        {
         "error_y": {
          "array": [
           0,
           0,
           0,
           9421.965,
           9930.604,
           10609.428,
           4936.503,
           6126.182,
           10036.998,
           10344.372,
           10652.623,
           7085.889,
           10966.885,
           13358.133,
           18327.899
          ]
         },
         "hovertemplate": "Algorithm=Genetic Algorithm 3min<br>Nodes=%{x}<br>Makespan=%{y}<extra></extra>",
         "legendgroup": "Genetic Algorithm 3min",
         "line": {
          "color": "#ab63fa",
          "dash": "solid"
         },
         "marker": {
          "symbol": "circle"
         },
         "mode": "lines",
         "name": "Genetic Algorithm 3min",
         "orientation": "v",
         "showlegend": true,
         "type": "scatter",
         "x": [
          7,
          13,
          21,
          31,
          43,
          57,
          73,
          91,
          111,
          133,
          157,
          183,
          211,
          241,
          273
         ],
         "xaxis": "x",
         "y": [
          175820,
          190330,
          250320,
          319690,
          426773.333,
          559998.133,
          743460,
          893288.933,
          1104097.933,
          1359159.3,
          1562695.6,
          1783417.667,
          2115446.033,
          2403956.933,
          2851032.2
         ],
         "yaxis": "y"
        }
       ],
       "layout": {
        "legend": {
         "title": {
          "text": "Algorithm"
         },
         "tracegroupgap": 0
        },
        "margin": {
         "t": 60
        },
        "template": {
         "data": {
          "bar": [
           {
            "error_x": {
             "color": "#2a3f5f"
            },
            "error_y": {
             "color": "#2a3f5f"
            },
            "marker": {
             "line": {
              "color": "#E5ECF6",
              "width": 0.5
             },
             "pattern": {
              "fillmode": "overlay",
              "size": 10,
              "solidity": 0.2
             }
            },
            "type": "bar"
           }
          ],
          "barpolar": [
           {
            "marker": {
             "line": {
              "color": "#E5ECF6",
              "width": 0.5
             },
             "pattern": {
              "fillmode": "overlay",
              "size": 10,
              "solidity": 0.2
             }
            },
            "type": "barpolar"
           }
          ],
          "carpet": [
           {
            "aaxis": {
             "endlinecolor": "#2a3f5f",
             "gridcolor": "white",
             "linecolor": "white",
             "minorgridcolor": "white",
             "startlinecolor": "#2a3f5f"
            },
            "baxis": {
             "endlinecolor": "#2a3f5f",
             "gridcolor": "white",
             "linecolor": "white",
             "minorgridcolor": "white",
             "startlinecolor": "#2a3f5f"
            },
            "type": "carpet"
           }
          ],
          "choropleth": [
           {
            "colorbar": {
             "outlinewidth": 0,
             "ticks": ""
            },
            "type": "choropleth"
           }
          ],
          "contour": [
           {
            "colorbar": {
             "outlinewidth": 0,
             "ticks": ""
            },
            "colorscale": [
             [
              0,
              "#0d0887"
             ],
             [
              0.1111111111111111,
              "#46039f"
             ],
             [
              0.2222222222222222,
              "#7201a8"
             ],
             [
              0.3333333333333333,
              "#9c179e"
             ],
             [
              0.4444444444444444,
              "#bd3786"
             ],
             [
              0.5555555555555556,
              "#d8576b"
             ],
             [
              0.6666666666666666,
              "#ed7953"
             ],
             [
              0.7777777777777778,
              "#fb9f3a"
             ],
             [
              0.8888888888888888,
              "#fdca26"
             ],
             [
              1,
              "#f0f921"
             ]
            ],
            "type": "contour"
           }
          ],
          "contourcarpet": [
           {
            "colorbar": {
             "outlinewidth": 0,
             "ticks": ""
            },
            "type": "contourcarpet"
           }
          ],
          "heatmap": [
           {
            "colorbar": {
             "outlinewidth": 0,
             "ticks": ""
            },
            "colorscale": [
             [
              0,
              "#0d0887"
             ],
             [
              0.1111111111111111,
              "#46039f"
             ],
             [
              0.2222222222222222,
              "#7201a8"
             ],
             [
              0.3333333333333333,
              "#9c179e"
             ],
             [
              0.4444444444444444,
              "#bd3786"
             ],
             [
              0.5555555555555556,
              "#d8576b"
             ],
             [
              0.6666666666666666,
              "#ed7953"
             ],
             [
              0.7777777777777778,
              "#fb9f3a"
             ],
             [
              0.8888888888888888,
              "#fdca26"
             ],
             [
              1,
              "#f0f921"
             ]
            ],
            "type": "heatmap"
           }
          ],
          "heatmapgl": [
           {
            "colorbar": {
             "outlinewidth": 0,
             "ticks": ""
            },
            "colorscale": [
             [
              0,
              "#0d0887"
             ],
             [
              0.1111111111111111,
              "#46039f"
             ],
             [
              0.2222222222222222,
              "#7201a8"
             ],
             [
              0.3333333333333333,
              "#9c179e"
             ],
             [
              0.4444444444444444,
              "#bd3786"
             ],
             [
              0.5555555555555556,
              "#d8576b"
             ],
             [
              0.6666666666666666,
              "#ed7953"
             ],
             [
              0.7777777777777778,
              "#fb9f3a"
             ],
             [
              0.8888888888888888,
              "#fdca26"
             ],
             [
              1,
              "#f0f921"
             ]
            ],
            "type": "heatmapgl"
           }
          ],
          "histogram": [
           {
            "marker": {
             "pattern": {
              "fillmode": "overlay",
              "size": 10,
              "solidity": 0.2
             }
            },
            "type": "histogram"
           }
          ],
          "histogram2d": [
           {
            "colorbar": {
             "outlinewidth": 0,
             "ticks": ""
            },
            "colorscale": [
             [
              0,
              "#0d0887"
             ],
             [
              0.1111111111111111,
              "#46039f"
             ],
             [
              0.2222222222222222,
              "#7201a8"
             ],
             [
              0.3333333333333333,
              "#9c179e"
             ],
             [
              0.4444444444444444,
              "#bd3786"
             ],
             [
              0.5555555555555556,
              "#d8576b"
             ],
             [
              0.6666666666666666,
              "#ed7953"
             ],
             [
              0.7777777777777778,
              "#fb9f3a"
             ],
             [
              0.8888888888888888,
              "#fdca26"
             ],
             [
              1,
              "#f0f921"
             ]
            ],
            "type": "histogram2d"
           }
          ],
          "histogram2dcontour": [
           {
            "colorbar": {
             "outlinewidth": 0,
             "ticks": ""
            },
            "colorscale": [
             [
              0,
              "#0d0887"
             ],
             [
              0.1111111111111111,
              "#46039f"
             ],
             [
              0.2222222222222222,
              "#7201a8"
             ],
             [
              0.3333333333333333,
              "#9c179e"
             ],
             [
              0.4444444444444444,
              "#bd3786"
             ],
             [
              0.5555555555555556,
              "#d8576b"
             ],
             [
              0.6666666666666666,
              "#ed7953"
             ],
             [
              0.7777777777777778,
              "#fb9f3a"
             ],
             [
              0.8888888888888888,
              "#fdca26"
             ],
             [
              1,
              "#f0f921"
             ]
            ],
            "type": "histogram2dcontour"
           }
          ],
          "mesh3d": [
           {
            "colorbar": {
             "outlinewidth": 0,
             "ticks": ""
            },
            "type": "mesh3d"
           }
          ],
          "parcoords": [
           {
            "line": {
             "colorbar": {
              "outlinewidth": 0,
              "ticks": ""
             }
            },
            "type": "parcoords"
           }
          ],
          "pie": [
           {
            "automargin": true,
            "type": "pie"
           }
          ],
          "scatter": [
           {
            "marker": {
             "colorbar": {
              "outlinewidth": 0,
              "ticks": ""
             }
            },
            "type": "scatter"
           }
          ],
          "scatter3d": [
           {
            "line": {
             "colorbar": {
              "outlinewidth": 0,
              "ticks": ""
             }
            },
            "marker": {
             "colorbar": {
              "outlinewidth": 0,
              "ticks": ""
             }
            },
            "type": "scatter3d"
           }
          ],
          "scattercarpet": [
           {
            "marker": {
             "colorbar": {
              "outlinewidth": 0,
              "ticks": ""
             }
            },
            "type": "scattercarpet"
           }
          ],
          "scattergeo": [
           {
            "marker": {
             "colorbar": {
              "outlinewidth": 0,
              "ticks": ""
             }
            },
            "type": "scattergeo"
           }
          ],
          "scattergl": [
           {
            "marker": {
             "colorbar": {
              "outlinewidth": 0,
              "ticks": ""
             }
            },
            "type": "scattergl"
           }
          ],
          "scattermapbox": [
           {
            "marker": {
             "colorbar": {
              "outlinewidth": 0,
              "ticks": ""
             }
            },
            "type": "scattermapbox"
           }
          ],
          "scatterpolar": [
           {
            "marker": {
             "colorbar": {
              "outlinewidth": 0,
              "ticks": ""
             }
            },
            "type": "scatterpolar"
           }
          ],
          "scatterpolargl": [
           {
            "marker": {
             "colorbar": {
              "outlinewidth": 0,
              "ticks": ""
             }
            },
            "type": "scatterpolargl"
           }
          ],
          "scatterternary": [
           {
            "marker": {
             "colorbar": {
              "outlinewidth": 0,
              "ticks": ""
             }
            },
            "type": "scatterternary"
           }
          ],
          "surface": [
           {
            "colorbar": {
             "outlinewidth": 0,
             "ticks": ""
            },
            "colorscale": [
             [
              0,
              "#0d0887"
             ],
             [
              0.1111111111111111,
              "#46039f"
             ],
             [
              0.2222222222222222,
              "#7201a8"
             ],
             [
              0.3333333333333333,
              "#9c179e"
             ],
             [
              0.4444444444444444,
              "#bd3786"
             ],
             [
              0.5555555555555556,
              "#d8576b"
             ],
             [
              0.6666666666666666,
              "#ed7953"
             ],
             [
              0.7777777777777778,
              "#fb9f3a"
             ],
             [
              0.8888888888888888,
              "#fdca26"
             ],
             [
              1,
              "#f0f921"
             ]
            ],
            "type": "surface"
           }
          ],
          "table": [
           {
            "cells": {
             "fill": {
              "color": "#EBF0F8"
             },
             "line": {
              "color": "white"
             }
            },
            "header": {
             "fill": {
              "color": "#C8D4E3"
             },
             "line": {
              "color": "white"
             }
            },
            "type": "table"
           }
          ]
         },
         "layout": {
          "annotationdefaults": {
           "arrowcolor": "#2a3f5f",
           "arrowhead": 0,
           "arrowwidth": 1
          },
          "autotypenumbers": "strict",
          "coloraxis": {
           "colorbar": {
            "outlinewidth": 0,
            "ticks": ""
           }
          },
          "colorscale": {
           "diverging": [
            [
             0,
             "#8e0152"
            ],
            [
             0.1,
             "#c51b7d"
            ],
            [
             0.2,
             "#de77ae"
            ],
            [
             0.3,
             "#f1b6da"
            ],
            [
             0.4,
             "#fde0ef"
            ],
            [
             0.5,
             "#f7f7f7"
            ],
            [
             0.6,
             "#e6f5d0"
            ],
            [
             0.7,
             "#b8e186"
            ],
            [
             0.8,
             "#7fbc41"
            ],
            [
             0.9,
             "#4d9221"
            ],
            [
             1,
             "#276419"
            ]
           ],
           "sequential": [
            [
             0,
             "#0d0887"
            ],
            [
             0.1111111111111111,
             "#46039f"
            ],
            [
             0.2222222222222222,
             "#7201a8"
            ],
            [
             0.3333333333333333,
             "#9c179e"
            ],
            [
             0.4444444444444444,
             "#bd3786"
            ],
            [
             0.5555555555555556,
             "#d8576b"
            ],
            [
             0.6666666666666666,
             "#ed7953"
            ],
            [
             0.7777777777777778,
             "#fb9f3a"
            ],
            [
             0.8888888888888888,
             "#fdca26"
            ],
            [
             1,
             "#f0f921"
            ]
           ],
           "sequentialminus": [
            [
             0,
             "#0d0887"
            ],
            [
             0.1111111111111111,
             "#46039f"
            ],
            [
             0.2222222222222222,
             "#7201a8"
            ],
            [
             0.3333333333333333,
             "#9c179e"
            ],
            [
             0.4444444444444444,
             "#bd3786"
            ],
            [
             0.5555555555555556,
             "#d8576b"
            ],
            [
             0.6666666666666666,
             "#ed7953"
            ],
            [
             0.7777777777777778,
             "#fb9f3a"
            ],
            [
             0.8888888888888888,
             "#fdca26"
            ],
            [
             1,
             "#f0f921"
            ]
           ]
          },
          "colorway": [
           "#636efa",
           "#EF553B",
           "#00cc96",
           "#ab63fa",
           "#FFA15A",
           "#19d3f3",
           "#FF6692",
           "#B6E880",
           "#FF97FF",
           "#FECB52"
          ],
          "font": {
           "color": "#2a3f5f"
          },
          "geo": {
           "bgcolor": "white",
           "lakecolor": "white",
           "landcolor": "#E5ECF6",
           "showlakes": true,
           "showland": true,
           "subunitcolor": "white"
          },
          "hoverlabel": {
           "align": "left"
          },
          "hovermode": "closest",
          "mapbox": {
           "style": "light"
          },
          "paper_bgcolor": "white",
          "plot_bgcolor": "#E5ECF6",
          "polar": {
           "angularaxis": {
            "gridcolor": "white",
            "linecolor": "white",
            "ticks": ""
           },
           "bgcolor": "#E5ECF6",
           "radialaxis": {
            "gridcolor": "white",
            "linecolor": "white",
            "ticks": ""
           }
          },
          "scene": {
           "xaxis": {
            "backgroundcolor": "#E5ECF6",
            "gridcolor": "white",
            "gridwidth": 2,
            "linecolor": "white",
            "showbackground": true,
            "ticks": "",
            "zerolinecolor": "white"
           },
           "yaxis": {
            "backgroundcolor": "#E5ECF6",
            "gridcolor": "white",
            "gridwidth": 2,
            "linecolor": "white",
            "showbackground": true,
            "ticks": "",
            "zerolinecolor": "white"
           },
           "zaxis": {
            "backgroundcolor": "#E5ECF6",
            "gridcolor": "white",
            "gridwidth": 2,
            "linecolor": "white",
            "showbackground": true,
            "ticks": "",
            "zerolinecolor": "white"
           }
          },
          "shapedefaults": {
           "line": {
            "color": "#2a3f5f"
           }
          },
          "ternary": {
           "aaxis": {
            "gridcolor": "white",
            "linecolor": "white",
            "ticks": ""
           },
           "baxis": {
            "gridcolor": "white",
            "linecolor": "white",
            "ticks": ""
           },
           "bgcolor": "#E5ECF6",
           "caxis": {
            "gridcolor": "white",
            "linecolor": "white",
            "ticks": ""
           }
          },
          "title": {
           "x": 0.05
          },
          "xaxis": {
           "automargin": true,
           "gridcolor": "white",
           "linecolor": "white",
           "ticks": "",
           "title": {
            "standoff": 15
           },
           "zerolinecolor": "white",
           "zerolinewidth": 2
          },
          "yaxis": {
           "automargin": true,
           "gridcolor": "white",
           "linecolor": "white",
           "ticks": "",
           "title": {
            "standoff": 15
           },
           "zerolinecolor": "white",
           "zerolinewidth": 2
          }
         }
        },
        "xaxis": {
         "anchor": "y",
         "domain": [
          0,
          1
         ],
         "title": {
          "text": "Nodes"
         }
        },
        "yaxis": {
         "anchor": "x",
         "domain": [
          0,
          1
         ],
         "title": {
          "text": "Makespan"
         }
        }
       }
      },
      "text/html": [
       "<div>                            <div id=\"15bb1ec3-f2f7-4ed9-a7e0-e3fce652bfaa\" class=\"plotly-graph-div\" style=\"height:525px; width:100%;\"></div>            <script type=\"text/javascript\">                require([\"plotly\"], function(Plotly) {                    window.PLOTLYENV=window.PLOTLYENV || {};                                    if (document.getElementById(\"15bb1ec3-f2f7-4ed9-a7e0-e3fce652bfaa\")) {                    Plotly.newPlot(                        \"15bb1ec3-f2f7-4ed9-a7e0-e3fce652bfaa\",                        [{\"error_y\":{\"array\":[0.0,0.0,0.0,0.0,0.0,0.0,0.0,0.0,0.0,0.0,0.0,0.0]},\"hovertemplate\":\"Algorithm=CPLEX 1h<br>Nodes=%{x}<br>Makespan=%{y}<extra></extra>\",\"legendgroup\":\"CPLEX 1h\",\"line\":{\"color\":\"#636efa\",\"dash\":\"solid\"},\"marker\":{\"symbol\":\"circle\"},\"mode\":\"lines\",\"name\":\"CPLEX 1h\",\"orientation\":\"v\",\"showlegend\":true,\"x\":[7,13,21,31,43,57,73,91,111,133,157,183],\"xaxis\":\"x\",\"y\":[175820.0,301430.0,250320.0,300420.0,405940.0,533090.0,744100.0,883930.0,1103760.0,1422800.0,1644230.0,2225650.0],\"yaxis\":\"y\",\"type\":\"scatter\"},{\"error_y\":{\"array\":[0.0,0.0,0.0,0.0,0.0,0.0,0.0,0.0,0.0,0.0,0.0,0.0,0.0,0.0,0.0]},\"hovertemplate\":\"Algorithm=LETSA<br>Nodes=%{x}<br>Makespan=%{y}<extra></extra>\",\"legendgroup\":\"LETSA\",\"line\":{\"color\":\"#EF553B\",\"dash\":\"solid\"},\"marker\":{\"symbol\":\"circle\"},\"mode\":\"lines\",\"name\":\"LETSA\",\"orientation\":\"v\",\"showlegend\":true,\"x\":[7,13,21,31,43,57,73,91,111,133,157,183,211,241,273],\"xaxis\":\"x\",\"y\":[175820.0,190330.0,362720.0,372620.0,517640.0,643890.0,804600.0,1233200.0,1271860.0,1698800.0,1731430.0,1994300.0,2273000.0,2827400.0,3206600.0],\"yaxis\":\"y\",\"type\":\"scatter\"},{\"error_y\":{\"array\":[0.0,0.0,0.0,2649.276,3161.134,1609.185,2446.996,2945.413,3365.694,2140.327,2172.857,2280.253,2758.581,3155.251,3384.816]},\"hovertemplate\":\"Algorithm=Tabu Search 3min<br>Nodes=%{x}<br>Makespan=%{y}<extra></extra>\",\"legendgroup\":\"Tabu Search 3min\",\"line\":{\"color\":\"#00cc96\",\"dash\":\"solid\"},\"marker\":{\"symbol\":\"circle\"},\"mode\":\"lines\",\"name\":\"Tabu Search 3min\",\"orientation\":\"v\",\"showlegend\":true,\"x\":[7,13,21,31,43,57,73,91,111,133,157,183,211,241,273],\"xaxis\":\"x\",\"y\":[175820.0,190330.0,250320.0,305305.333,410169.667,536788.267,717656.667,874343.767,1081430.767,1337607.667,1537450.033,1751546.6,2073043.6,2350304.267,2774816.5],\"yaxis\":\"y\",\"type\":\"scatter\"},{\"error_y\":{\"array\":[0.0,0.0,0.0,9421.965,9930.604,10609.428,4936.503,6126.182,10036.998,10344.372,10652.623,7085.889,10966.885,13358.133,18327.899]},\"hovertemplate\":\"Algorithm=Genetic Algorithm 3min<br>Nodes=%{x}<br>Makespan=%{y}<extra></extra>\",\"legendgroup\":\"Genetic Algorithm 3min\",\"line\":{\"color\":\"#ab63fa\",\"dash\":\"solid\"},\"marker\":{\"symbol\":\"circle\"},\"mode\":\"lines\",\"name\":\"Genetic Algorithm 3min\",\"orientation\":\"v\",\"showlegend\":true,\"x\":[7,13,21,31,43,57,73,91,111,133,157,183,211,241,273],\"xaxis\":\"x\",\"y\":[175820.0,190330.0,250320.0,319690.0,426773.333,559998.133,743460.0,893288.933,1104097.933,1359159.3,1562695.6,1783417.667,2115446.033,2403956.933,2851032.2],\"yaxis\":\"y\",\"type\":\"scatter\"}],                        {\"template\":{\"data\":{\"bar\":[{\"error_x\":{\"color\":\"#2a3f5f\"},\"error_y\":{\"color\":\"#2a3f5f\"},\"marker\":{\"line\":{\"color\":\"#E5ECF6\",\"width\":0.5},\"pattern\":{\"fillmode\":\"overlay\",\"size\":10,\"solidity\":0.2}},\"type\":\"bar\"}],\"barpolar\":[{\"marker\":{\"line\":{\"color\":\"#E5ECF6\",\"width\":0.5},\"pattern\":{\"fillmode\":\"overlay\",\"size\":10,\"solidity\":0.2}},\"type\":\"barpolar\"}],\"carpet\":[{\"aaxis\":{\"endlinecolor\":\"#2a3f5f\",\"gridcolor\":\"white\",\"linecolor\":\"white\",\"minorgridcolor\":\"white\",\"startlinecolor\":\"#2a3f5f\"},\"baxis\":{\"endlinecolor\":\"#2a3f5f\",\"gridcolor\":\"white\",\"linecolor\":\"white\",\"minorgridcolor\":\"white\",\"startlinecolor\":\"#2a3f5f\"},\"type\":\"carpet\"}],\"choropleth\":[{\"colorbar\":{\"outlinewidth\":0,\"ticks\":\"\"},\"type\":\"choropleth\"}],\"contour\":[{\"colorbar\":{\"outlinewidth\":0,\"ticks\":\"\"},\"colorscale\":[[0.0,\"#0d0887\"],[0.1111111111111111,\"#46039f\"],[0.2222222222222222,\"#7201a8\"],[0.3333333333333333,\"#9c179e\"],[0.4444444444444444,\"#bd3786\"],[0.5555555555555556,\"#d8576b\"],[0.6666666666666666,\"#ed7953\"],[0.7777777777777778,\"#fb9f3a\"],[0.8888888888888888,\"#fdca26\"],[1.0,\"#f0f921\"]],\"type\":\"contour\"}],\"contourcarpet\":[{\"colorbar\":{\"outlinewidth\":0,\"ticks\":\"\"},\"type\":\"contourcarpet\"}],\"heatmap\":[{\"colorbar\":{\"outlinewidth\":0,\"ticks\":\"\"},\"colorscale\":[[0.0,\"#0d0887\"],[0.1111111111111111,\"#46039f\"],[0.2222222222222222,\"#7201a8\"],[0.3333333333333333,\"#9c179e\"],[0.4444444444444444,\"#bd3786\"],[0.5555555555555556,\"#d8576b\"],[0.6666666666666666,\"#ed7953\"],[0.7777777777777778,\"#fb9f3a\"],[0.8888888888888888,\"#fdca26\"],[1.0,\"#f0f921\"]],\"type\":\"heatmap\"}],\"heatmapgl\":[{\"colorbar\":{\"outlinewidth\":0,\"ticks\":\"\"},\"colorscale\":[[0.0,\"#0d0887\"],[0.1111111111111111,\"#46039f\"],[0.2222222222222222,\"#7201a8\"],[0.3333333333333333,\"#9c179e\"],[0.4444444444444444,\"#bd3786\"],[0.5555555555555556,\"#d8576b\"],[0.6666666666666666,\"#ed7953\"],[0.7777777777777778,\"#fb9f3a\"],[0.8888888888888888,\"#fdca26\"],[1.0,\"#f0f921\"]],\"type\":\"heatmapgl\"}],\"histogram\":[{\"marker\":{\"pattern\":{\"fillmode\":\"overlay\",\"size\":10,\"solidity\":0.2}},\"type\":\"histogram\"}],\"histogram2d\":[{\"colorbar\":{\"outlinewidth\":0,\"ticks\":\"\"},\"colorscale\":[[0.0,\"#0d0887\"],[0.1111111111111111,\"#46039f\"],[0.2222222222222222,\"#7201a8\"],[0.3333333333333333,\"#9c179e\"],[0.4444444444444444,\"#bd3786\"],[0.5555555555555556,\"#d8576b\"],[0.6666666666666666,\"#ed7953\"],[0.7777777777777778,\"#fb9f3a\"],[0.8888888888888888,\"#fdca26\"],[1.0,\"#f0f921\"]],\"type\":\"histogram2d\"}],\"histogram2dcontour\":[{\"colorbar\":{\"outlinewidth\":0,\"ticks\":\"\"},\"colorscale\":[[0.0,\"#0d0887\"],[0.1111111111111111,\"#46039f\"],[0.2222222222222222,\"#7201a8\"],[0.3333333333333333,\"#9c179e\"],[0.4444444444444444,\"#bd3786\"],[0.5555555555555556,\"#d8576b\"],[0.6666666666666666,\"#ed7953\"],[0.7777777777777778,\"#fb9f3a\"],[0.8888888888888888,\"#fdca26\"],[1.0,\"#f0f921\"]],\"type\":\"histogram2dcontour\"}],\"mesh3d\":[{\"colorbar\":{\"outlinewidth\":0,\"ticks\":\"\"},\"type\":\"mesh3d\"}],\"parcoords\":[{\"line\":{\"colorbar\":{\"outlinewidth\":0,\"ticks\":\"\"}},\"type\":\"parcoords\"}],\"pie\":[{\"automargin\":true,\"type\":\"pie\"}],\"scatter\":[{\"marker\":{\"colorbar\":{\"outlinewidth\":0,\"ticks\":\"\"}},\"type\":\"scatter\"}],\"scatter3d\":[{\"line\":{\"colorbar\":{\"outlinewidth\":0,\"ticks\":\"\"}},\"marker\":{\"colorbar\":{\"outlinewidth\":0,\"ticks\":\"\"}},\"type\":\"scatter3d\"}],\"scattercarpet\":[{\"marker\":{\"colorbar\":{\"outlinewidth\":0,\"ticks\":\"\"}},\"type\":\"scattercarpet\"}],\"scattergeo\":[{\"marker\":{\"colorbar\":{\"outlinewidth\":0,\"ticks\":\"\"}},\"type\":\"scattergeo\"}],\"scattergl\":[{\"marker\":{\"colorbar\":{\"outlinewidth\":0,\"ticks\":\"\"}},\"type\":\"scattergl\"}],\"scattermapbox\":[{\"marker\":{\"colorbar\":{\"outlinewidth\":0,\"ticks\":\"\"}},\"type\":\"scattermapbox\"}],\"scatterpolar\":[{\"marker\":{\"colorbar\":{\"outlinewidth\":0,\"ticks\":\"\"}},\"type\":\"scatterpolar\"}],\"scatterpolargl\":[{\"marker\":{\"colorbar\":{\"outlinewidth\":0,\"ticks\":\"\"}},\"type\":\"scatterpolargl\"}],\"scatterternary\":[{\"marker\":{\"colorbar\":{\"outlinewidth\":0,\"ticks\":\"\"}},\"type\":\"scatterternary\"}],\"surface\":[{\"colorbar\":{\"outlinewidth\":0,\"ticks\":\"\"},\"colorscale\":[[0.0,\"#0d0887\"],[0.1111111111111111,\"#46039f\"],[0.2222222222222222,\"#7201a8\"],[0.3333333333333333,\"#9c179e\"],[0.4444444444444444,\"#bd3786\"],[0.5555555555555556,\"#d8576b\"],[0.6666666666666666,\"#ed7953\"],[0.7777777777777778,\"#fb9f3a\"],[0.8888888888888888,\"#fdca26\"],[1.0,\"#f0f921\"]],\"type\":\"surface\"}],\"table\":[{\"cells\":{\"fill\":{\"color\":\"#EBF0F8\"},\"line\":{\"color\":\"white\"}},\"header\":{\"fill\":{\"color\":\"#C8D4E3\"},\"line\":{\"color\":\"white\"}},\"type\":\"table\"}]},\"layout\":{\"annotationdefaults\":{\"arrowcolor\":\"#2a3f5f\",\"arrowhead\":0,\"arrowwidth\":1},\"autotypenumbers\":\"strict\",\"coloraxis\":{\"colorbar\":{\"outlinewidth\":0,\"ticks\":\"\"}},\"colorscale\":{\"diverging\":[[0,\"#8e0152\"],[0.1,\"#c51b7d\"],[0.2,\"#de77ae\"],[0.3,\"#f1b6da\"],[0.4,\"#fde0ef\"],[0.5,\"#f7f7f7\"],[0.6,\"#e6f5d0\"],[0.7,\"#b8e186\"],[0.8,\"#7fbc41\"],[0.9,\"#4d9221\"],[1,\"#276419\"]],\"sequential\":[[0.0,\"#0d0887\"],[0.1111111111111111,\"#46039f\"],[0.2222222222222222,\"#7201a8\"],[0.3333333333333333,\"#9c179e\"],[0.4444444444444444,\"#bd3786\"],[0.5555555555555556,\"#d8576b\"],[0.6666666666666666,\"#ed7953\"],[0.7777777777777778,\"#fb9f3a\"],[0.8888888888888888,\"#fdca26\"],[1.0,\"#f0f921\"]],\"sequentialminus\":[[0.0,\"#0d0887\"],[0.1111111111111111,\"#46039f\"],[0.2222222222222222,\"#7201a8\"],[0.3333333333333333,\"#9c179e\"],[0.4444444444444444,\"#bd3786\"],[0.5555555555555556,\"#d8576b\"],[0.6666666666666666,\"#ed7953\"],[0.7777777777777778,\"#fb9f3a\"],[0.8888888888888888,\"#fdca26\"],[1.0,\"#f0f921\"]]},\"colorway\":[\"#636efa\",\"#EF553B\",\"#00cc96\",\"#ab63fa\",\"#FFA15A\",\"#19d3f3\",\"#FF6692\",\"#B6E880\",\"#FF97FF\",\"#FECB52\"],\"font\":{\"color\":\"#2a3f5f\"},\"geo\":{\"bgcolor\":\"white\",\"lakecolor\":\"white\",\"landcolor\":\"#E5ECF6\",\"showlakes\":true,\"showland\":true,\"subunitcolor\":\"white\"},\"hoverlabel\":{\"align\":\"left\"},\"hovermode\":\"closest\",\"mapbox\":{\"style\":\"light\"},\"paper_bgcolor\":\"white\",\"plot_bgcolor\":\"#E5ECF6\",\"polar\":{\"angularaxis\":{\"gridcolor\":\"white\",\"linecolor\":\"white\",\"ticks\":\"\"},\"bgcolor\":\"#E5ECF6\",\"radialaxis\":{\"gridcolor\":\"white\",\"linecolor\":\"white\",\"ticks\":\"\"}},\"scene\":{\"xaxis\":{\"backgroundcolor\":\"#E5ECF6\",\"gridcolor\":\"white\",\"gridwidth\":2,\"linecolor\":\"white\",\"showbackground\":true,\"ticks\":\"\",\"zerolinecolor\":\"white\"},\"yaxis\":{\"backgroundcolor\":\"#E5ECF6\",\"gridcolor\":\"white\",\"gridwidth\":2,\"linecolor\":\"white\",\"showbackground\":true,\"ticks\":\"\",\"zerolinecolor\":\"white\"},\"zaxis\":{\"backgroundcolor\":\"#E5ECF6\",\"gridcolor\":\"white\",\"gridwidth\":2,\"linecolor\":\"white\",\"showbackground\":true,\"ticks\":\"\",\"zerolinecolor\":\"white\"}},\"shapedefaults\":{\"line\":{\"color\":\"#2a3f5f\"}},\"ternary\":{\"aaxis\":{\"gridcolor\":\"white\",\"linecolor\":\"white\",\"ticks\":\"\"},\"baxis\":{\"gridcolor\":\"white\",\"linecolor\":\"white\",\"ticks\":\"\"},\"bgcolor\":\"#E5ECF6\",\"caxis\":{\"gridcolor\":\"white\",\"linecolor\":\"white\",\"ticks\":\"\"}},\"title\":{\"x\":0.05},\"xaxis\":{\"automargin\":true,\"gridcolor\":\"white\",\"linecolor\":\"white\",\"ticks\":\"\",\"title\":{\"standoff\":15},\"zerolinecolor\":\"white\",\"zerolinewidth\":2},\"yaxis\":{\"automargin\":true,\"gridcolor\":\"white\",\"linecolor\":\"white\",\"ticks\":\"\",\"title\":{\"standoff\":15},\"zerolinecolor\":\"white\",\"zerolinewidth\":2}}},\"xaxis\":{\"anchor\":\"y\",\"domain\":[0.0,1.0],\"title\":{\"text\":\"Nodes\"}},\"yaxis\":{\"anchor\":\"x\",\"domain\":[0.0,1.0],\"title\":{\"text\":\"Makespan\"}},\"legend\":{\"title\":{\"text\":\"Algorithm\"},\"tracegroupgap\":0},\"margin\":{\"t\":60}},                        {\"responsive\": true}                    ).then(function(){\n",
       "                            \n",
       "var gd = document.getElementById('15bb1ec3-f2f7-4ed9-a7e0-e3fce652bfaa');\n",
       "var x = new MutationObserver(function (mutations, observer) {{\n",
       "        var display = window.getComputedStyle(gd).display;\n",
       "        if (!display || display === 'none') {{\n",
       "            console.log([gd, 'removed!']);\n",
       "            Plotly.purge(gd);\n",
       "            observer.disconnect();\n",
       "        }}\n",
       "}});\n",
       "\n",
       "// Listen for the removal of the full notebook cells\n",
       "var notebookContainer = gd.closest('#notebook-container');\n",
       "if (notebookContainer) {{\n",
       "    x.observe(notebookContainer, {childList: true});\n",
       "}}\n",
       "\n",
       "// Listen for the clearing of the current output cell\n",
       "var outputEl = gd.closest('.output');\n",
       "if (outputEl) {{\n",
       "    x.observe(outputEl, {childList: true});\n",
       "}}\n",
       "\n",
       "                        })                };                });            </script>        </div>"
      ]
     },
     "metadata": {},
     "output_type": "display_data"
    }
   ],
   "source": [
    "meticDF = pd.read_csv(\"benchmark2.csv\")\n",
    "fig = px.line(meticDF[meticDF['Algorithm'].isin([\"LETSA\", \"CPLEX 1h\", \"Genetic Algorithm 3min\", 'Tabu Search 3min'])], x=\"Nodes\", y=\"Makespan\", error_y=\"std_Makespan\", color=\"Algorithm\")\n",
    "fig.show()\n",
    "fig.write_html(\"benchmark_scalabilitate.html\", include_plotlyjs=True)"
   ]
  }
 ],
 "metadata": {
  "kernelspec": {
   "display_name": "scamp-ml",
   "language": "python",
   "name": "python3"
  },
  "language_info": {
   "codemirror_mode": {
    "name": "ipython",
    "version": 3
   },
   "file_extension": ".py",
   "mimetype": "text/x-python",
   "name": "python",
   "nbconvert_exporter": "python",
   "pygments_lexer": "ipython3",
   "version": "3.8.13"
  },
  "orig_nbformat": 4
 },
 "nbformat": 4,
 "nbformat_minor": 2
}
